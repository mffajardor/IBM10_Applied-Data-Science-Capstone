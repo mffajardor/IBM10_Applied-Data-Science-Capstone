{
  "metadata": {
    "kernelspec": {
      "name": "python",
      "display_name": "Python (Pyodide)",
      "language": "python"
    },
    "language_info": {
      "codemirror_mode": {
        "name": "python",
        "version": 3
      },
      "file_extension": ".py",
      "mimetype": "text/x-python",
      "name": "python",
      "nbconvert_exporter": "python",
      "pygments_lexer": "ipython3",
      "version": "3.8"
    },
    "prev_pub_hash": "0f9db842b41c859223722809f8be602f5df9334348bd206b11e3af58c30eb345"
  },
  "nbformat_minor": 4,
  "nbformat": 4,
  "cells": [
    {
      "cell_type": "markdown",
      "source": "<p style=\"text-align:center\">\n    <a href=\"https://skills.network/?utm_medium=Exinfluencer&utm_source=Exinfluencer&utm_content=000026UJ&utm_term=10006555&utm_id=NA-SkillsNetwork-Channel-SkillsNetworkCoursesIBMDS0321ENSkillsNetwork26802033-2022-01-01\" target=\"_blank\">\n    <img src=\"https://cf-courses-data.s3.us.cloud-object-storage.appdomain.cloud/assets/logos/SN_web_lightmode.png\" width=\"200\" alt=\"Skills Network Logo\">\n    </a>\n</p>\n",
      "metadata": {}
    },
    {
      "cell_type": "markdown",
      "source": "# **Hands-on Lab: Interactive Visual Analytics with Folium**\n",
      "metadata": {}
    },
    {
      "cell_type": "markdown",
      "source": "Estimated time needed: **40** minutes\n",
      "metadata": {}
    },
    {
      "cell_type": "markdown",
      "source": "The launch success rate may depend on many factors such as payload mass, orbit type, and so on. It may also depend on the location and proximities of a launch site, i.e., the initial position of rocket trajectories. Finding an optimal location for building a launch site certainly involves many factors and hopefully we could discover some of the factors by analyzing the existing launch site locations.\n",
      "metadata": {}
    },
    {
      "cell_type": "markdown",
      "source": "In the previous exploratory data analysis labs, you have visualized the SpaceX launch dataset using `matplotlib` and `seaborn` and discovered some preliminary correlations between the launch site and success rates. In this lab, you will be performing more interactive visual analytics using `Folium`.\n",
      "metadata": {}
    },
    {
      "cell_type": "markdown",
      "source": "## Objectives\n",
      "metadata": {}
    },
    {
      "cell_type": "markdown",
      "source": "This lab contains the following tasks:\n\n*   **TASK 1:** Mark all launch sites on a map\n*   **TASK 2:** Mark the success/failed launches for each site on the map\n*   **TASK 3:** Calculate the distances between a launch site to its proximities\n\nAfter completed the above tasks, you should be able to find some geographical patterns about launch sites.\n",
      "metadata": {}
    },
    {
      "cell_type": "markdown",
      "source": "Let's first import required Python packages for this lab:\n",
      "metadata": {}
    },
    {
      "cell_type": "code",
      "source": "import piplite\nawait piplite.install(['folium'])\nawait piplite.install(['pandas'])",
      "metadata": {
        "trusted": true
      },
      "outputs": [],
      "execution_count": 1
    },
    {
      "cell_type": "code",
      "source": "import folium\nimport pandas as pd",
      "metadata": {
        "trusted": true
      },
      "outputs": [],
      "execution_count": 2
    },
    {
      "cell_type": "code",
      "source": "# Import folium MarkerCluster plugin\nfrom folium.plugins import MarkerCluster\n# Import folium MousePosition plugin\nfrom folium.plugins import MousePosition\n# Import folium DivIcon plugin\nfrom folium.features import DivIcon",
      "metadata": {
        "trusted": true
      },
      "outputs": [],
      "execution_count": 3
    },
    {
      "cell_type": "markdown",
      "source": "If you need to refresh your memory about folium, you may download and refer to this previous folium lab:\n",
      "metadata": {}
    },
    {
      "cell_type": "markdown",
      "source": "[Generating Maps with Python](https://cf-courses-data.s3.us.cloud-object-storage.appdomain.cloud/IBMDeveloperSkillsNetwork-DV0101EN-SkillsNetwork/labs/v4/DV0101EN-Exercise-Generating-Maps-in-Python.ipynb)\n",
      "metadata": {}
    },
    {
      "cell_type": "code",
      "source": "## Task 1: Mark all launch sites on a map\n",
      "metadata": {
        "trusted": true
      },
      "outputs": [],
      "execution_count": null
    },
    {
      "cell_type": "markdown",
      "source": "First, let's try to add each site's location on a map using site's latitude and longitude coordinates\n",
      "metadata": {}
    },
    {
      "cell_type": "markdown",
      "source": "The following dataset with the name `spacex_launch_geo.csv` is an augmented dataset with latitude and longitude added for each site.\n",
      "metadata": {}
    },
    {
      "cell_type": "code",
      "source": "# Download and read the `spacex_launch_geo.csv`\nfrom js import fetch\nimport io\n\nURL = 'https://cf-courses-data.s3.us.cloud-object-storage.appdomain.cloud/IBM-DS0321EN-SkillsNetwork/datasets/spacex_launch_geo.csv'\nresp = await fetch(URL)\nspacex_csv_file = io.BytesIO((await resp.arrayBuffer()).to_py())\nspacex_df=pd.read_csv(spacex_csv_file)",
      "metadata": {
        "trusted": true
      },
      "outputs": [],
      "execution_count": 4
    },
    {
      "cell_type": "markdown",
      "source": "Now, you can take a look at what are the coordinates for each site.\n",
      "metadata": {}
    },
    {
      "cell_type": "code",
      "source": "# Select relevant sub-columns: `Launch Site`, `Lat(Latitude)`, `Long(Longitude)`, `class`\nspacex_df = spacex_df[['Launch Site', 'Lat', 'Long', 'class']]\nlaunch_sites_df = spacex_df.groupby(['Launch Site'], as_index=False).first()\nlaunch_sites_df = launch_sites_df[['Launch Site', 'Lat', 'Long']]\nlaunch_sites_df",
      "metadata": {
        "trusted": true
      },
      "outputs": [
        {
          "execution_count": 5,
          "output_type": "execute_result",
          "data": {
            "text/plain": "    Launch Site        Lat        Long\n0   CCAFS LC-40  28.562302  -80.577356\n1  CCAFS SLC-40  28.563197  -80.576820\n2    KSC LC-39A  28.573255  -80.646895\n3   VAFB SLC-4E  34.632834 -120.610745",
            "text/html": "<div>\n<style scoped>\n    .dataframe tbody tr th:only-of-type {\n        vertical-align: middle;\n    }\n\n    .dataframe tbody tr th {\n        vertical-align: top;\n    }\n\n    .dataframe thead th {\n        text-align: right;\n    }\n</style>\n<table border=\"1\" class=\"dataframe\">\n  <thead>\n    <tr style=\"text-align: right;\">\n      <th></th>\n      <th>Launch Site</th>\n      <th>Lat</th>\n      <th>Long</th>\n    </tr>\n  </thead>\n  <tbody>\n    <tr>\n      <th>0</th>\n      <td>CCAFS LC-40</td>\n      <td>28.562302</td>\n      <td>-80.577356</td>\n    </tr>\n    <tr>\n      <th>1</th>\n      <td>CCAFS SLC-40</td>\n      <td>28.563197</td>\n      <td>-80.576820</td>\n    </tr>\n    <tr>\n      <th>2</th>\n      <td>KSC LC-39A</td>\n      <td>28.573255</td>\n      <td>-80.646895</td>\n    </tr>\n    <tr>\n      <th>3</th>\n      <td>VAFB SLC-4E</td>\n      <td>34.632834</td>\n      <td>-120.610745</td>\n    </tr>\n  </tbody>\n</table>\n</div>"
          },
          "metadata": {}
        }
      ],
      "execution_count": 5
    },
    {
      "cell_type": "markdown",
      "source": "Above coordinates are just plain numbers that can not give you any intuitive insights about where are those launch sites. If you are very good at geography, you can interpret those numbers directly in your mind. If not, that's fine too. Let's visualize those locations by pinning them on a map.\n",
      "metadata": {}
    },
    {
      "cell_type": "markdown",
      "source": "We first need to create a folium `Map` object, with an initial center location to be NASA Johnson Space Center at Houston, Texas.\n",
      "metadata": {}
    },
    {
      "cell_type": "code",
      "source": "# Start location is NASA Johnson Space Center\nnasa_coordinate = [29.559684888503615, -95.0830971930759]\nsite_map = folium.Map(location=nasa_coordinate, zoom_start=10)",
      "metadata": {
        "trusted": true
      },
      "outputs": [],
      "execution_count": 6
    },
    {
      "cell_type": "markdown",
      "source": "We could use `folium.Circle` to add a highlighted circle area with a text label on a specific coordinate. For example,\n",
      "metadata": {}
    },
    {
      "cell_type": "code",
      "source": "# Create a blue circle at NASA Johnson Space Center's coordinate with a popup label showing its name\ncircle = folium.Circle(nasa_coordinate, radius=1000, color='#d35400', fill=True).add_child(folium.Popup('NASA Johnson Space Center'))\n# Create a blue circle at NASA Johnson Space Center's coordinate with a icon showing its name\nmarker = folium.map.Marker(\n    nasa_coordinate,\n    # Create an icon as a text label\n    icon=DivIcon(\n        icon_size=(20,20),\n        icon_anchor=(0,0),\n        html='<div style=\"font-size: 12; color:#d35400;\"><b>%s</b></div>' % 'NASA JSC',\n        )\n    )\nsite_map.add_child(circle)\nsite_map.add_child(marker)",
      "metadata": {
        "trusted": true,
        "scrolled": true
      },
      "outputs": [
        {
          "execution_count": 7,
          "output_type": "execute_result",
          "data": {
            "text/plain": "<folium.folium.Map at 0x3900a78>",
            "text/html": "<div style=\"width:100%;\"><div style=\"position:relative;width:100%;height:0;padding-bottom:60%;\"><span style=\"color:#565656\">Make this Notebook Trusted to load map: File -> Trust Notebook</span><iframe srcdoc=\"&lt;!DOCTYPE html&gt;\n&lt;html&gt;\n&lt;head&gt;\n    \n    &lt;meta http-equiv=&quot;content-type&quot; content=&quot;text/html; charset=UTF-8&quot; /&gt;\n    &lt;script src=&quot;https://cdn.jsdelivr.net/npm/leaflet@1.9.3/dist/leaflet.js&quot;&gt;&lt;/script&gt;\n    &lt;script src=&quot;https://code.jquery.com/jquery-3.7.1.min.js&quot;&gt;&lt;/script&gt;\n    &lt;script src=&quot;https://cdn.jsdelivr.net/npm/bootstrap@5.2.2/dist/js/bootstrap.bundle.min.js&quot;&gt;&lt;/script&gt;\n    &lt;script src=&quot;https://cdnjs.cloudflare.com/ajax/libs/Leaflet.awesome-markers/2.0.2/leaflet.awesome-markers.js&quot;&gt;&lt;/script&gt;\n    &lt;link rel=&quot;stylesheet&quot; href=&quot;https://cdn.jsdelivr.net/npm/leaflet@1.9.3/dist/leaflet.css&quot;/&gt;\n    &lt;link rel=&quot;stylesheet&quot; href=&quot;https://cdn.jsdelivr.net/npm/bootstrap@5.2.2/dist/css/bootstrap.min.css&quot;/&gt;\n    &lt;link rel=&quot;stylesheet&quot; href=&quot;https://netdna.bootstrapcdn.com/bootstrap/3.0.0/css/bootstrap-glyphicons.css&quot;/&gt;\n    &lt;link rel=&quot;stylesheet&quot; href=&quot;https://cdn.jsdelivr.net/npm/@fortawesome/fontawesome-free@6.2.0/css/all.min.css&quot;/&gt;\n    &lt;link rel=&quot;stylesheet&quot; href=&quot;https://cdnjs.cloudflare.com/ajax/libs/Leaflet.awesome-markers/2.0.2/leaflet.awesome-markers.css&quot;/&gt;\n    &lt;link rel=&quot;stylesheet&quot; href=&quot;https://cdn.jsdelivr.net/gh/python-visualization/folium/folium/templates/leaflet.awesome.rotate.min.css&quot;/&gt;\n    \n            &lt;meta name=&quot;viewport&quot; content=&quot;width=device-width,\n                initial-scale=1.0, maximum-scale=1.0, user-scalable=no&quot; /&gt;\n            &lt;style&gt;\n                #map_69d8da41e4a3160b65196bb48b4c36f0 {\n                    position: relative;\n                    width: 100.0%;\n                    height: 100.0%;\n                    left: 0.0%;\n                    top: 0.0%;\n                }\n                .leaflet-container { font-size: 1rem; }\n            &lt;/style&gt;\n\n            &lt;style&gt;html, body {\n                width: 100%;\n                height: 100%;\n                margin: 0;\n                padding: 0;\n            }\n            &lt;/style&gt;\n\n            &lt;style&gt;#map {\n                position:absolute;\n                top:0;\n                bottom:0;\n                right:0;\n                left:0;\n                }\n            &lt;/style&gt;\n\n            &lt;script&gt;\n                L_NO_TOUCH = false;\n                L_DISABLE_3D = false;\n            &lt;/script&gt;\n\n        \n&lt;/head&gt;\n&lt;body&gt;\n    \n    \n            &lt;div class=&quot;folium-map&quot; id=&quot;map_69d8da41e4a3160b65196bb48b4c36f0&quot; &gt;&lt;/div&gt;\n        \n&lt;/body&gt;\n&lt;script&gt;\n    \n    \n            var map_69d8da41e4a3160b65196bb48b4c36f0 = L.map(\n                &quot;map_69d8da41e4a3160b65196bb48b4c36f0&quot;,\n                {\n                    center: [29.559684888503615, -95.0830971930759],\n                    crs: L.CRS.EPSG3857,\n                    ...{\n  &quot;zoom&quot;: 10,\n  &quot;zoomControl&quot;: true,\n  &quot;preferCanvas&quot;: false,\n}\n\n                }\n            );\n\n            \n\n        \n    \n            var tile_layer_6b11481cec0d478f031a0f65edee0d51 = L.tileLayer(\n                &quot;https://tile.openstreetmap.org/{z}/{x}/{y}.png&quot;,\n                {\n  &quot;minZoom&quot;: 0,\n  &quot;maxZoom&quot;: 19,\n  &quot;maxNativeZoom&quot;: 19,\n  &quot;noWrap&quot;: false,\n  &quot;attribution&quot;: &quot;\\u0026copy; \\u003ca href=\\&quot;https://www.openstreetmap.org/copyright\\&quot;\\u003eOpenStreetMap\\u003c/a\\u003e contributors&quot;,\n  &quot;subdomains&quot;: &quot;abc&quot;,\n  &quot;detectRetina&quot;: false,\n  &quot;tms&quot;: false,\n  &quot;opacity&quot;: 1,\n}\n\n            );\n        \n    \n            tile_layer_6b11481cec0d478f031a0f65edee0d51.addTo(map_69d8da41e4a3160b65196bb48b4c36f0);\n        \n    \n            var circle_1f1cdff2ef89dd1ac81d0f40310b8dfb = L.circle(\n                [29.559684888503615, -95.0830971930759],\n                {&quot;bubblingMouseEvents&quot;: true, &quot;color&quot;: &quot;#d35400&quot;, &quot;dashArray&quot;: null, &quot;dashOffset&quot;: null, &quot;fill&quot;: true, &quot;fillColor&quot;: &quot;#d35400&quot;, &quot;fillOpacity&quot;: 0.2, &quot;fillRule&quot;: &quot;evenodd&quot;, &quot;lineCap&quot;: &quot;round&quot;, &quot;lineJoin&quot;: &quot;round&quot;, &quot;opacity&quot;: 1.0, &quot;radius&quot;: 1000, &quot;stroke&quot;: true, &quot;weight&quot;: 3}\n            ).addTo(map_69d8da41e4a3160b65196bb48b4c36f0);\n        \n    \n        var popup_c240f509c018f43f1f686ba4d37f540a = L.popup({\n  &quot;maxWidth&quot;: &quot;100%&quot;,\n});\n\n        \n            \n                var html_39ff2d874b5f7d925273a1a1a90f0b58 = $(`&lt;div id=&quot;html_39ff2d874b5f7d925273a1a1a90f0b58&quot; style=&quot;width: 100.0%; height: 100.0%;&quot;&gt;NASA Johnson Space Center&lt;/div&gt;`)[0];\n                popup_c240f509c018f43f1f686ba4d37f540a.setContent(html_39ff2d874b5f7d925273a1a1a90f0b58);\n            \n        \n\n        circle_1f1cdff2ef89dd1ac81d0f40310b8dfb.bindPopup(popup_c240f509c018f43f1f686ba4d37f540a)\n        ;\n\n        \n    \n    \n            var marker_a9c598a42776759980b4a55d863ab2ce = L.marker(\n                [29.559684888503615, -95.0830971930759],\n                {\n}\n            ).addTo(map_69d8da41e4a3160b65196bb48b4c36f0);\n        \n    \n            var div_icon_24863966270efba1ebffbeaaf637913a = L.divIcon({\n  &quot;html&quot;: &quot;\\u003cdiv style=\\&quot;font-size: 12; color:#d35400;\\&quot;\\u003e\\u003cb\\u003eNASA JSC\\u003c/b\\u003e\\u003c/div\\u003e&quot;,\n  &quot;iconSize&quot;: [20, 20],\n  &quot;iconAnchor&quot;: [0, 0],\n  &quot;className&quot;: &quot;empty&quot;,\n});\n        \n    \n                marker_a9c598a42776759980b4a55d863ab2ce.setIcon(div_icon_24863966270efba1ebffbeaaf637913a);\n            \n&lt;/script&gt;\n&lt;/html&gt;\" style=\"position:absolute;width:100%;height:100%;left:0;top:0;border:none !important;\" allowfullscreen webkitallowfullscreen mozallowfullscreen></iframe></div></div>"
          },
          "metadata": {}
        }
      ],
      "execution_count": 7
    },
    {
      "cell_type": "markdown",
      "source": "and you should find a small yellow circle near the city of Houston and you can zoom-in to see a larger circle.\n",
      "metadata": {}
    },
    {
      "cell_type": "markdown",
      "source": "Now, let's add a circle for each launch site in data frame `launch_sites`\n",
      "metadata": {}
    },
    {
      "cell_type": "markdown",
      "source": "*TODO:*  Create and add `folium.Circle` and `folium.Marker` for each launch site on the site map\n",
      "metadata": {}
    },
    {
      "cell_type": "markdown",
      "source": "An example of folium.Circle:\n",
      "metadata": {}
    },
    {
      "cell_type": "markdown",
      "source": "`folium.Circle(coordinate, radius=1000, color='#000000', fill=True).add_child(folium.Popup(...))`\n",
      "metadata": {}
    },
    {
      "cell_type": "markdown",
      "source": "An example of folium.Marker:\n",
      "metadata": {}
    },
    {
      "cell_type": "markdown",
      "source": "`folium.map.Marker(coordinate, icon=DivIcon(icon_size=(20,20),icon_anchor=(0,0), html='<div style=\"font-size: 12; color:#d35400;\"><b>%s</b></div>' % 'label', ))`\n",
      "metadata": {}
    },
    {
      "cell_type": "code",
      "source": "# Initial the map\nsite_map = folium.Map(location=nasa_coordinate, zoom_start=5)\n# For each launch site, add a Circle object based on its coordinate (Lat, Long) values. In addition, add Launch site name as a popup label\n\n# TASK 1: Crear mapa de sitios\nsite_map_task1 = folium.Map(location=nasa_coordinate, zoom_start=5)\n\n# Solo agregar sitios de lanzamiento\nfor index, site in launch_sites_df.iterrows():\n    coordinate = [site['Lat'], site['Long']]\n    \n    circle = folium.Circle(coordinate, radius=1000, color='#000000', fill=True).add_child(\n        folium.Popup(site['Launch Site']))\n    marker = folium.map.Marker(coordinate, icon=DivIcon(\n        icon_size=(20,20), icon_anchor=(0,0),\n        html=f'<div style=\"font-size: 12; color:#000000;\"><b>{site[\"Launch Site\"]}</b></div>'))\n    \n    site_map_task1.add_child(circle)\n    site_map_task1.add_child(marker)\n\nsite_map_task1",
      "metadata": {
        "trusted": true
      },
      "outputs": [
        {
          "execution_count": 25,
          "output_type": "execute_result",
          "data": {
            "text/plain": "<folium.folium.Map at 0x51532f0>",
            "text/html": "<div style=\"width:100%;\"><div style=\"position:relative;width:100%;height:0;padding-bottom:60%;\"><span style=\"color:#565656\">Make this Notebook Trusted to load map: File -> Trust Notebook</span><iframe srcdoc=\"&lt;!DOCTYPE html&gt;\n&lt;html&gt;\n&lt;head&gt;\n    \n    &lt;meta http-equiv=&quot;content-type&quot; content=&quot;text/html; charset=UTF-8&quot; /&gt;\n    &lt;script src=&quot;https://cdn.jsdelivr.net/npm/leaflet@1.9.3/dist/leaflet.js&quot;&gt;&lt;/script&gt;\n    &lt;script src=&quot;https://code.jquery.com/jquery-3.7.1.min.js&quot;&gt;&lt;/script&gt;\n    &lt;script src=&quot;https://cdn.jsdelivr.net/npm/bootstrap@5.2.2/dist/js/bootstrap.bundle.min.js&quot;&gt;&lt;/script&gt;\n    &lt;script src=&quot;https://cdnjs.cloudflare.com/ajax/libs/Leaflet.awesome-markers/2.0.2/leaflet.awesome-markers.js&quot;&gt;&lt;/script&gt;\n    &lt;link rel=&quot;stylesheet&quot; href=&quot;https://cdn.jsdelivr.net/npm/leaflet@1.9.3/dist/leaflet.css&quot;/&gt;\n    &lt;link rel=&quot;stylesheet&quot; href=&quot;https://cdn.jsdelivr.net/npm/bootstrap@5.2.2/dist/css/bootstrap.min.css&quot;/&gt;\n    &lt;link rel=&quot;stylesheet&quot; href=&quot;https://netdna.bootstrapcdn.com/bootstrap/3.0.0/css/bootstrap-glyphicons.css&quot;/&gt;\n    &lt;link rel=&quot;stylesheet&quot; href=&quot;https://cdn.jsdelivr.net/npm/@fortawesome/fontawesome-free@6.2.0/css/all.min.css&quot;/&gt;\n    &lt;link rel=&quot;stylesheet&quot; href=&quot;https://cdnjs.cloudflare.com/ajax/libs/Leaflet.awesome-markers/2.0.2/leaflet.awesome-markers.css&quot;/&gt;\n    &lt;link rel=&quot;stylesheet&quot; href=&quot;https://cdn.jsdelivr.net/gh/python-visualization/folium/folium/templates/leaflet.awesome.rotate.min.css&quot;/&gt;\n    \n            &lt;meta name=&quot;viewport&quot; content=&quot;width=device-width,\n                initial-scale=1.0, maximum-scale=1.0, user-scalable=no&quot; /&gt;\n            &lt;style&gt;\n                #map_115e5098e847a0443e25dbac08dc3d72 {\n                    position: relative;\n                    width: 100.0%;\n                    height: 100.0%;\n                    left: 0.0%;\n                    top: 0.0%;\n                }\n                .leaflet-container { font-size: 1rem; }\n            &lt;/style&gt;\n\n            &lt;style&gt;html, body {\n                width: 100%;\n                height: 100%;\n                margin: 0;\n                padding: 0;\n            }\n            &lt;/style&gt;\n\n            &lt;style&gt;#map {\n                position:absolute;\n                top:0;\n                bottom:0;\n                right:0;\n                left:0;\n                }\n            &lt;/style&gt;\n\n            &lt;script&gt;\n                L_NO_TOUCH = false;\n                L_DISABLE_3D = false;\n            &lt;/script&gt;\n\n        \n&lt;/head&gt;\n&lt;body&gt;\n    \n    \n            &lt;div class=&quot;folium-map&quot; id=&quot;map_115e5098e847a0443e25dbac08dc3d72&quot; &gt;&lt;/div&gt;\n        \n&lt;/body&gt;\n&lt;script&gt;\n    \n    \n            var map_115e5098e847a0443e25dbac08dc3d72 = L.map(\n                &quot;map_115e5098e847a0443e25dbac08dc3d72&quot;,\n                {\n                    center: [29.559684888503615, -95.0830971930759],\n                    crs: L.CRS.EPSG3857,\n                    ...{\n  &quot;zoom&quot;: 5,\n  &quot;zoomControl&quot;: true,\n  &quot;preferCanvas&quot;: false,\n}\n\n                }\n            );\n\n            \n\n        \n    \n            var tile_layer_1d59db95112a839b6e29a34e554c99d4 = L.tileLayer(\n                &quot;https://tile.openstreetmap.org/{z}/{x}/{y}.png&quot;,\n                {\n  &quot;minZoom&quot;: 0,\n  &quot;maxZoom&quot;: 19,\n  &quot;maxNativeZoom&quot;: 19,\n  &quot;noWrap&quot;: false,\n  &quot;attribution&quot;: &quot;\\u0026copy; \\u003ca href=\\&quot;https://www.openstreetmap.org/copyright\\&quot;\\u003eOpenStreetMap\\u003c/a\\u003e contributors&quot;,\n  &quot;subdomains&quot;: &quot;abc&quot;,\n  &quot;detectRetina&quot;: false,\n  &quot;tms&quot;: false,\n  &quot;opacity&quot;: 1,\n}\n\n            );\n        \n    \n            tile_layer_1d59db95112a839b6e29a34e554c99d4.addTo(map_115e5098e847a0443e25dbac08dc3d72);\n        \n    \n            var circle_8ce47444913c0f9f105e798e6abe17f6 = L.circle(\n                [28.56230197, -80.57735648],\n                {&quot;bubblingMouseEvents&quot;: true, &quot;color&quot;: &quot;#000000&quot;, &quot;dashArray&quot;: null, &quot;dashOffset&quot;: null, &quot;fill&quot;: true, &quot;fillColor&quot;: &quot;#000000&quot;, &quot;fillOpacity&quot;: 0.2, &quot;fillRule&quot;: &quot;evenodd&quot;, &quot;lineCap&quot;: &quot;round&quot;, &quot;lineJoin&quot;: &quot;round&quot;, &quot;opacity&quot;: 1.0, &quot;radius&quot;: 1000, &quot;stroke&quot;: true, &quot;weight&quot;: 3}\n            ).addTo(map_115e5098e847a0443e25dbac08dc3d72);\n        \n    \n        var popup_5b989511d0c1d78a3bf9a553ecdb5a88 = L.popup({\n  &quot;maxWidth&quot;: &quot;100%&quot;,\n});\n\n        \n            \n                var html_03a59b60441f122a629ebf538b23cd9e = $(`&lt;div id=&quot;html_03a59b60441f122a629ebf538b23cd9e&quot; style=&quot;width: 100.0%; height: 100.0%;&quot;&gt;CCAFS LC-40&lt;/div&gt;`)[0];\n                popup_5b989511d0c1d78a3bf9a553ecdb5a88.setContent(html_03a59b60441f122a629ebf538b23cd9e);\n            \n        \n\n        circle_8ce47444913c0f9f105e798e6abe17f6.bindPopup(popup_5b989511d0c1d78a3bf9a553ecdb5a88)\n        ;\n\n        \n    \n    \n            var marker_cf99f6c476cbf7d59c6a256a016b03d2 = L.marker(\n                [28.56230197, -80.57735648],\n                {\n}\n            ).addTo(map_115e5098e847a0443e25dbac08dc3d72);\n        \n    \n            var div_icon_a91e0493dc0b08755f67a3f645ca2faa = L.divIcon({\n  &quot;html&quot;: &quot;\\u003cdiv style=\\&quot;font-size: 12; color:#000000;\\&quot;\\u003e\\u003cb\\u003eCCAFS LC-40\\u003c/b\\u003e\\u003c/div\\u003e&quot;,\n  &quot;iconSize&quot;: [20, 20],\n  &quot;iconAnchor&quot;: [0, 0],\n  &quot;className&quot;: &quot;empty&quot;,\n});\n        \n    \n                marker_cf99f6c476cbf7d59c6a256a016b03d2.setIcon(div_icon_a91e0493dc0b08755f67a3f645ca2faa);\n            \n    \n            var circle_aa622fb325b83c833e952814f5820514 = L.circle(\n                [28.56319718, -80.57682003],\n                {&quot;bubblingMouseEvents&quot;: true, &quot;color&quot;: &quot;#000000&quot;, &quot;dashArray&quot;: null, &quot;dashOffset&quot;: null, &quot;fill&quot;: true, &quot;fillColor&quot;: &quot;#000000&quot;, &quot;fillOpacity&quot;: 0.2, &quot;fillRule&quot;: &quot;evenodd&quot;, &quot;lineCap&quot;: &quot;round&quot;, &quot;lineJoin&quot;: &quot;round&quot;, &quot;opacity&quot;: 1.0, &quot;radius&quot;: 1000, &quot;stroke&quot;: true, &quot;weight&quot;: 3}\n            ).addTo(map_115e5098e847a0443e25dbac08dc3d72);\n        \n    \n        var popup_c586075cc81e0e89a58032dc5c1f5516 = L.popup({\n  &quot;maxWidth&quot;: &quot;100%&quot;,\n});\n\n        \n            \n                var html_8282170cfc24f4da2abccd30122917dd = $(`&lt;div id=&quot;html_8282170cfc24f4da2abccd30122917dd&quot; style=&quot;width: 100.0%; height: 100.0%;&quot;&gt;CCAFS SLC-40&lt;/div&gt;`)[0];\n                popup_c586075cc81e0e89a58032dc5c1f5516.setContent(html_8282170cfc24f4da2abccd30122917dd);\n            \n        \n\n        circle_aa622fb325b83c833e952814f5820514.bindPopup(popup_c586075cc81e0e89a58032dc5c1f5516)\n        ;\n\n        \n    \n    \n            var marker_9739ac2425f7d6a0251ba3bc13bb86d0 = L.marker(\n                [28.56319718, -80.57682003],\n                {\n}\n            ).addTo(map_115e5098e847a0443e25dbac08dc3d72);\n        \n    \n            var div_icon_780b07c62a89cbcc32d8dad2f55bafca = L.divIcon({\n  &quot;html&quot;: &quot;\\u003cdiv style=\\&quot;font-size: 12; color:#000000;\\&quot;\\u003e\\u003cb\\u003eCCAFS SLC-40\\u003c/b\\u003e\\u003c/div\\u003e&quot;,\n  &quot;iconSize&quot;: [20, 20],\n  &quot;iconAnchor&quot;: [0, 0],\n  &quot;className&quot;: &quot;empty&quot;,\n});\n        \n    \n                marker_9739ac2425f7d6a0251ba3bc13bb86d0.setIcon(div_icon_780b07c62a89cbcc32d8dad2f55bafca);\n            \n    \n            var circle_6c2ac6fc67257b515cb162c10680f594 = L.circle(\n                [28.57325457, -80.64689529],\n                {&quot;bubblingMouseEvents&quot;: true, &quot;color&quot;: &quot;#000000&quot;, &quot;dashArray&quot;: null, &quot;dashOffset&quot;: null, &quot;fill&quot;: true, &quot;fillColor&quot;: &quot;#000000&quot;, &quot;fillOpacity&quot;: 0.2, &quot;fillRule&quot;: &quot;evenodd&quot;, &quot;lineCap&quot;: &quot;round&quot;, &quot;lineJoin&quot;: &quot;round&quot;, &quot;opacity&quot;: 1.0, &quot;radius&quot;: 1000, &quot;stroke&quot;: true, &quot;weight&quot;: 3}\n            ).addTo(map_115e5098e847a0443e25dbac08dc3d72);\n        \n    \n        var popup_838276f90dc7d6428a3936be433953d1 = L.popup({\n  &quot;maxWidth&quot;: &quot;100%&quot;,\n});\n\n        \n            \n                var html_50d3b011be8fb910bf1b0aadaf0fafcc = $(`&lt;div id=&quot;html_50d3b011be8fb910bf1b0aadaf0fafcc&quot; style=&quot;width: 100.0%; height: 100.0%;&quot;&gt;KSC LC-39A&lt;/div&gt;`)[0];\n                popup_838276f90dc7d6428a3936be433953d1.setContent(html_50d3b011be8fb910bf1b0aadaf0fafcc);\n            \n        \n\n        circle_6c2ac6fc67257b515cb162c10680f594.bindPopup(popup_838276f90dc7d6428a3936be433953d1)\n        ;\n\n        \n    \n    \n            var marker_ee0c72bc5c8a0a1f94b607f367806002 = L.marker(\n                [28.57325457, -80.64689529],\n                {\n}\n            ).addTo(map_115e5098e847a0443e25dbac08dc3d72);\n        \n    \n            var div_icon_26bc062cced616edc1f0bc5cbfe3d76c = L.divIcon({\n  &quot;html&quot;: &quot;\\u003cdiv style=\\&quot;font-size: 12; color:#000000;\\&quot;\\u003e\\u003cb\\u003eKSC LC-39A\\u003c/b\\u003e\\u003c/div\\u003e&quot;,\n  &quot;iconSize&quot;: [20, 20],\n  &quot;iconAnchor&quot;: [0, 0],\n  &quot;className&quot;: &quot;empty&quot;,\n});\n        \n    \n                marker_ee0c72bc5c8a0a1f94b607f367806002.setIcon(div_icon_26bc062cced616edc1f0bc5cbfe3d76c);\n            \n    \n            var circle_71ceb8d0da8b037fef0b206103b0b8d5 = L.circle(\n                [34.63283416, -120.6107455],\n                {&quot;bubblingMouseEvents&quot;: true, &quot;color&quot;: &quot;#000000&quot;, &quot;dashArray&quot;: null, &quot;dashOffset&quot;: null, &quot;fill&quot;: true, &quot;fillColor&quot;: &quot;#000000&quot;, &quot;fillOpacity&quot;: 0.2, &quot;fillRule&quot;: &quot;evenodd&quot;, &quot;lineCap&quot;: &quot;round&quot;, &quot;lineJoin&quot;: &quot;round&quot;, &quot;opacity&quot;: 1.0, &quot;radius&quot;: 1000, &quot;stroke&quot;: true, &quot;weight&quot;: 3}\n            ).addTo(map_115e5098e847a0443e25dbac08dc3d72);\n        \n    \n        var popup_3abfc2ce1c3c625202d85b9f4644f36b = L.popup({\n  &quot;maxWidth&quot;: &quot;100%&quot;,\n});\n\n        \n            \n                var html_35c231ede649fe500785af87e8a926fd = $(`&lt;div id=&quot;html_35c231ede649fe500785af87e8a926fd&quot; style=&quot;width: 100.0%; height: 100.0%;&quot;&gt;VAFB SLC-4E&lt;/div&gt;`)[0];\n                popup_3abfc2ce1c3c625202d85b9f4644f36b.setContent(html_35c231ede649fe500785af87e8a926fd);\n            \n        \n\n        circle_71ceb8d0da8b037fef0b206103b0b8d5.bindPopup(popup_3abfc2ce1c3c625202d85b9f4644f36b)\n        ;\n\n        \n    \n    \n            var marker_862797928b9b160dfac888732c7b0f10 = L.marker(\n                [34.63283416, -120.6107455],\n                {\n}\n            ).addTo(map_115e5098e847a0443e25dbac08dc3d72);\n        \n    \n            var div_icon_510326d672a02f062db1cc6ed8a7ba07 = L.divIcon({\n  &quot;html&quot;: &quot;\\u003cdiv style=\\&quot;font-size: 12; color:#000000;\\&quot;\\u003e\\u003cb\\u003eVAFB SLC-4E\\u003c/b\\u003e\\u003c/div\\u003e&quot;,\n  &quot;iconSize&quot;: [20, 20],\n  &quot;iconAnchor&quot;: [0, 0],\n  &quot;className&quot;: &quot;empty&quot;,\n});\n        \n    \n                marker_862797928b9b160dfac888732c7b0f10.setIcon(div_icon_510326d672a02f062db1cc6ed8a7ba07);\n            \n&lt;/script&gt;\n&lt;/html&gt;\" style=\"position:absolute;width:100%;height:100%;left:0;top:0;border:none !important;\" allowfullscreen webkitallowfullscreen mozallowfullscreen></iframe></div></div>"
          },
          "metadata": {}
        }
      ],
      "execution_count": 25
    },
    {
      "cell_type": "markdown",
      "source": "The generated map with marked launch sites should look similar to the following:\n",
      "metadata": {}
    },
    {
      "cell_type": "markdown",
      "source": "<center>\n    <img src=\"https://cf-courses-data.s3.us.cloud-object-storage.appdomain.cloud/IBM-DS0321EN-SkillsNetwork/labs/module_3/images/launch_site_markers.png\">\n</center>\n",
      "metadata": {}
    },
    {
      "cell_type": "markdown",
      "source": "Now, you can explore the map by zoom-in/out the marked areas\n, and try to answer the following questions:\n\n*   Are all launch sites in proximity to the Equator line?\n*   Are all launch sites in very close proximity to the coast?\n\nAlso please try to explain your findings.\n",
      "metadata": {}
    },
    {
      "cell_type": "code",
      "source": "# Task 2: Mark the success/failed launches for each site on the map\n",
      "metadata": {
        "trusted": true
      },
      "outputs": [],
      "execution_count": null
    },
    {
      "cell_type": "markdown",
      "source": "Next, let's try to enhance the map by adding the launch outcomes for each site, and see which sites have high success rates.\nRecall that data frame spacex_df has detailed launch records, and the `class` column indicates if this launch was successful or not\n",
      "metadata": {}
    },
    {
      "cell_type": "code",
      "source": "spacex_df.tail(10)",
      "metadata": {
        "trusted": true
      },
      "outputs": [
        {
          "execution_count": 8,
          "output_type": "execute_result",
          "data": {
            "text/plain": "     Launch Site        Lat       Long  class\n46    KSC LC-39A  28.573255 -80.646895      1\n47    KSC LC-39A  28.573255 -80.646895      1\n48    KSC LC-39A  28.573255 -80.646895      1\n49  CCAFS SLC-40  28.563197 -80.576820      1\n50  CCAFS SLC-40  28.563197 -80.576820      1\n51  CCAFS SLC-40  28.563197 -80.576820      0\n52  CCAFS SLC-40  28.563197 -80.576820      0\n53  CCAFS SLC-40  28.563197 -80.576820      0\n54  CCAFS SLC-40  28.563197 -80.576820      1\n55  CCAFS SLC-40  28.563197 -80.576820      0",
            "text/html": "<div>\n<style scoped>\n    .dataframe tbody tr th:only-of-type {\n        vertical-align: middle;\n    }\n\n    .dataframe tbody tr th {\n        vertical-align: top;\n    }\n\n    .dataframe thead th {\n        text-align: right;\n    }\n</style>\n<table border=\"1\" class=\"dataframe\">\n  <thead>\n    <tr style=\"text-align: right;\">\n      <th></th>\n      <th>Launch Site</th>\n      <th>Lat</th>\n      <th>Long</th>\n      <th>class</th>\n    </tr>\n  </thead>\n  <tbody>\n    <tr>\n      <th>46</th>\n      <td>KSC LC-39A</td>\n      <td>28.573255</td>\n      <td>-80.646895</td>\n      <td>1</td>\n    </tr>\n    <tr>\n      <th>47</th>\n      <td>KSC LC-39A</td>\n      <td>28.573255</td>\n      <td>-80.646895</td>\n      <td>1</td>\n    </tr>\n    <tr>\n      <th>48</th>\n      <td>KSC LC-39A</td>\n      <td>28.573255</td>\n      <td>-80.646895</td>\n      <td>1</td>\n    </tr>\n    <tr>\n      <th>49</th>\n      <td>CCAFS SLC-40</td>\n      <td>28.563197</td>\n      <td>-80.576820</td>\n      <td>1</td>\n    </tr>\n    <tr>\n      <th>50</th>\n      <td>CCAFS SLC-40</td>\n      <td>28.563197</td>\n      <td>-80.576820</td>\n      <td>1</td>\n    </tr>\n    <tr>\n      <th>51</th>\n      <td>CCAFS SLC-40</td>\n      <td>28.563197</td>\n      <td>-80.576820</td>\n      <td>0</td>\n    </tr>\n    <tr>\n      <th>52</th>\n      <td>CCAFS SLC-40</td>\n      <td>28.563197</td>\n      <td>-80.576820</td>\n      <td>0</td>\n    </tr>\n    <tr>\n      <th>53</th>\n      <td>CCAFS SLC-40</td>\n      <td>28.563197</td>\n      <td>-80.576820</td>\n      <td>0</td>\n    </tr>\n    <tr>\n      <th>54</th>\n      <td>CCAFS SLC-40</td>\n      <td>28.563197</td>\n      <td>-80.576820</td>\n      <td>1</td>\n    </tr>\n    <tr>\n      <th>55</th>\n      <td>CCAFS SLC-40</td>\n      <td>28.563197</td>\n      <td>-80.576820</td>\n      <td>0</td>\n    </tr>\n  </tbody>\n</table>\n</div>"
          },
          "metadata": {}
        }
      ],
      "execution_count": 8
    },
    {
      "cell_type": "markdown",
      "source": "Next, let's create markers for all launch records.\nIf a launch was successful `(class=1)`, then we use a green marker and if a launch was failed, we use a red marker `(class=0)`\n",
      "metadata": {}
    },
    {
      "cell_type": "markdown",
      "source": "Note that a launch only happens in one of the four launch sites, which means many launch records will have the exact same coordinate. Marker clusters can be a good way to simplify a map containing many markers having the same coordinate.\n",
      "metadata": {}
    },
    {
      "cell_type": "markdown",
      "source": "Let's first create a `MarkerCluster` object\n",
      "metadata": {}
    },
    {
      "cell_type": "code",
      "source": "marker_cluster = MarkerCluster()\n",
      "metadata": {
        "trusted": true
      },
      "outputs": [],
      "execution_count": 9
    },
    {
      "cell_type": "markdown",
      "source": "*TODO:* Create a new column in `spacex_df` dataframe called `marker_color` to store the marker colors based on the `class` value\n",
      "metadata": {}
    },
    {
      "cell_type": "code",
      "source": "# Apply a function to check the value of `class` column\n# If class=1, marker_color value will be green\n# If class=0, marker_color value will be red\ndef assign_marker_color(launch_class):\n    if launch_class == 1:\n        return 'green'  # Éxito\n    else:\n        return 'red'    # Fallo\n\n# Aplicar la función para crear la columna de color\nspacex_df['marker_color'] = spacex_df['class'].apply(assign_marker_color)",
      "metadata": {
        "trusted": true
      },
      "outputs": [],
      "execution_count": 10
    },
    {
      "cell_type": "markdown",
      "source": "*TODO:* For each launch result in `spacex_df` data frame, add a `folium.Marker` to `marker_cluster`\n",
      "metadata": {}
    },
    {
      "cell_type": "code",
      "source": "# Add marker_cluster to current site_map\n# Crear NUEVO mapa para Task 2\nsite_map_task2 = folium.Map(location=nasa_coordinate, zoom_start=5)\n\n# Verificar distribución\nsuccess_count = len(spacex_df[spacex_df['class'] == 1])\nfailure_count = len(spacex_df[spacex_df['class'] == 0])\nprint(f\"Lanzamientos exitosos: {success_count}\")\nprint(f\"Lanzamientos fallidos: {failure_count}\")\n\n# Crear cluster de marcadores\nmarker_cluster = MarkerCluster()\n\n\n# for each row in spacex_df data frame\n# create a Marker object with its coordinate\n# and customize the Marker's icon property to indicate if this launch was successed or failed, \n# e.g., icon=folium.Icon(color='white', icon_color=row['marker_color']\n\n# Agregar marcadores para cada lanzamiento\nfor index, record in spacex_df.iterrows():\n    coordinate = [record['Lat'], record['Long']]\n    \n    # Crear popup\n    popup_text = f\"Sitio: {record['Launch Site']}<br>\"\n    popup_text += f\"Resultado: {'Éxito' if record['class'] == 1 else 'Fallo'}\"\n    \n    # Crear marcador\n    marker = folium.Marker(\n        coordinate,\n        popup=popup_text,\n        icon=folium.Icon(color='white', icon_color=record['marker_color'])\n    )\n    \n    marker_cluster.add_child(marker)\n\n# Agregar cluster al mapa\nsite_map_task2.add_child(marker_cluster)\n\n#for index, record in spacex_df.iterrows():\n#    # TODO: Create and add a Marker cluster to the site map\n#    # marker = folium.Marker(...)\n#    marker_cluster.add_child(marker)\n\nsite_map",
      "metadata": {
        "trusted": true
      },
      "outputs": [
        {
          "name": "stdout",
          "text": "Lanzamientos exitosos: 24\nLanzamientos fallidos: 32\n",
          "output_type": "stream"
        },
        {
          "execution_count": 26,
          "output_type": "execute_result",
          "data": {
            "text/plain": "<folium.folium.Map at 0x61f4538>",
            "text/html": "<div style=\"width:100%;\"><div style=\"position:relative;width:100%;height:0;padding-bottom:60%;\"><span style=\"color:#565656\">Make this Notebook Trusted to load map: File -> Trust Notebook</span><iframe srcdoc=\"&lt;!DOCTYPE html&gt;\n&lt;html&gt;\n&lt;head&gt;\n    \n    &lt;meta http-equiv=&quot;content-type&quot; content=&quot;text/html; charset=UTF-8&quot; /&gt;\n    &lt;script src=&quot;https://cdn.jsdelivr.net/npm/leaflet@1.9.3/dist/leaflet.js&quot;&gt;&lt;/script&gt;\n    &lt;script src=&quot;https://code.jquery.com/jquery-3.7.1.min.js&quot;&gt;&lt;/script&gt;\n    &lt;script src=&quot;https://cdn.jsdelivr.net/npm/bootstrap@5.2.2/dist/js/bootstrap.bundle.min.js&quot;&gt;&lt;/script&gt;\n    &lt;script src=&quot;https://cdnjs.cloudflare.com/ajax/libs/Leaflet.awesome-markers/2.0.2/leaflet.awesome-markers.js&quot;&gt;&lt;/script&gt;\n    &lt;link rel=&quot;stylesheet&quot; href=&quot;https://cdn.jsdelivr.net/npm/leaflet@1.9.3/dist/leaflet.css&quot;/&gt;\n    &lt;link rel=&quot;stylesheet&quot; href=&quot;https://cdn.jsdelivr.net/npm/bootstrap@5.2.2/dist/css/bootstrap.min.css&quot;/&gt;\n    &lt;link rel=&quot;stylesheet&quot; href=&quot;https://netdna.bootstrapcdn.com/bootstrap/3.0.0/css/bootstrap-glyphicons.css&quot;/&gt;\n    &lt;link rel=&quot;stylesheet&quot; href=&quot;https://cdn.jsdelivr.net/npm/@fortawesome/fontawesome-free@6.2.0/css/all.min.css&quot;/&gt;\n    &lt;link rel=&quot;stylesheet&quot; href=&quot;https://cdnjs.cloudflare.com/ajax/libs/Leaflet.awesome-markers/2.0.2/leaflet.awesome-markers.css&quot;/&gt;\n    &lt;link rel=&quot;stylesheet&quot; href=&quot;https://cdn.jsdelivr.net/gh/python-visualization/folium/folium/templates/leaflet.awesome.rotate.min.css&quot;/&gt;\n    \n            &lt;meta name=&quot;viewport&quot; content=&quot;width=device-width,\n                initial-scale=1.0, maximum-scale=1.0, user-scalable=no&quot; /&gt;\n            &lt;style&gt;\n                #map_0836dd1ca11989a3393420928addda13 {\n                    position: relative;\n                    width: 100.0%;\n                    height: 100.0%;\n                    left: 0.0%;\n                    top: 0.0%;\n                }\n                .leaflet-container { font-size: 1rem; }\n            &lt;/style&gt;\n\n            &lt;style&gt;html, body {\n                width: 100%;\n                height: 100%;\n                margin: 0;\n                padding: 0;\n            }\n            &lt;/style&gt;\n\n            &lt;style&gt;#map {\n                position:absolute;\n                top:0;\n                bottom:0;\n                right:0;\n                left:0;\n                }\n            &lt;/style&gt;\n\n            &lt;script&gt;\n                L_NO_TOUCH = false;\n                L_DISABLE_3D = false;\n            &lt;/script&gt;\n\n        \n&lt;/head&gt;\n&lt;body&gt;\n    \n    \n            &lt;div class=&quot;folium-map&quot; id=&quot;map_0836dd1ca11989a3393420928addda13&quot; &gt;&lt;/div&gt;\n        \n&lt;/body&gt;\n&lt;script&gt;\n    \n    \n            var map_0836dd1ca11989a3393420928addda13 = L.map(\n                &quot;map_0836dd1ca11989a3393420928addda13&quot;,\n                {\n                    center: [29.559684888503615, -95.0830971930759],\n                    crs: L.CRS.EPSG3857,\n                    ...{\n  &quot;zoom&quot;: 5,\n  &quot;zoomControl&quot;: true,\n  &quot;preferCanvas&quot;: false,\n}\n\n                }\n            );\n\n            \n\n        \n    \n            var tile_layer_70a2307989a4d3507f9597496881b2c5 = L.tileLayer(\n                &quot;https://tile.openstreetmap.org/{z}/{x}/{y}.png&quot;,\n                {\n  &quot;minZoom&quot;: 0,\n  &quot;maxZoom&quot;: 19,\n  &quot;maxNativeZoom&quot;: 19,\n  &quot;noWrap&quot;: false,\n  &quot;attribution&quot;: &quot;\\u0026copy; \\u003ca href=\\&quot;https://www.openstreetmap.org/copyright\\&quot;\\u003eOpenStreetMap\\u003c/a\\u003e contributors&quot;,\n  &quot;subdomains&quot;: &quot;abc&quot;,\n  &quot;detectRetina&quot;: false,\n  &quot;tms&quot;: false,\n  &quot;opacity&quot;: 1,\n}\n\n            );\n        \n    \n            tile_layer_70a2307989a4d3507f9597496881b2c5.addTo(map_0836dd1ca11989a3393420928addda13);\n        \n&lt;/script&gt;\n&lt;/html&gt;\" style=\"position:absolute;width:100%;height:100%;left:0;top:0;border:none !important;\" allowfullscreen webkitallowfullscreen mozallowfullscreen></iframe></div></div>"
          },
          "metadata": {}
        }
      ],
      "execution_count": 26
    },
    {
      "cell_type": "markdown",
      "source": "Your updated map may look like the following screenshots:\n",
      "metadata": {}
    },
    {
      "cell_type": "markdown",
      "source": "<center>\n    <img src=\"https://cf-courses-data.s3.us.cloud-object-storage.appdomain.cloud/IBM-DS0321EN-SkillsNetwork/labs/module_3/images/launch_site_marker_cluster.png\">\n</center>\n",
      "metadata": {}
    },
    {
      "cell_type": "markdown",
      "source": "<center>\n    <img src=\"https://cf-courses-data.s3.us.cloud-object-storage.appdomain.cloud/IBM-DS0321EN-SkillsNetwork/labs/module_3/images/launch_site_marker_cluster_zoomed.png\">\n</center>\n",
      "metadata": {}
    },
    {
      "cell_type": "markdown",
      "source": "From the color-labeled markers in marker clusters, you should be able to easily identify which launch sites have relatively high success rates.\n",
      "metadata": {}
    },
    {
      "cell_type": "code",
      "source": "# TASK 3: Calculate the distances between a launch site to its proximities\n# Crear mapa para Task 3 con MousePosition\nsite_map_task3 = folium.Map(location=nasa_coordinate, zoom_start=5)\n\n# Agregar marcadores de sitios de lanzamiento\nfor index, site in launch_sites_df.iterrows():\n    coordinate = [site['Lat'], site['Long']]\n    marker = folium.Marker(\n        coordinate,\n        popup=site['Launch Site'],\n        icon=folium.Icon(color='blue')\n    )\n    site_map_task3.add_child(marker)",
      "metadata": {
        "trusted": true
      },
      "outputs": [],
      "execution_count": 17
    },
    {
      "cell_type": "markdown",
      "source": "Next, we need to explore and analyze the proximities of launch sites.\n",
      "metadata": {}
    },
    {
      "cell_type": "markdown",
      "source": "Let's first add a `MousePosition` on the map to get coordinate for a mouse over a point on the map. As such, while you are exploring the map, you can easily find the coordinates of any points of interests (such as railway)\n",
      "metadata": {}
    },
    {
      "cell_type": "code",
      "source": "# Add Mouse Position to get the coordinate (Lat, Long) for a mouse over on the map\nformatter = \"function(num) {return L.Util.formatNum(num, 5);};\"\nmouse_position = MousePosition(\n    position='topright',\n    separator=' Long: ',\n    empty_string='NaN',\n    lng_first=False,\n    num_digits=20,\n    prefix='Lat:',\n    lat_formatter=formatter,\n    lng_formatter=formatter,\n)\n\nsite_map_task3.add_child(mouse_position)\nsite_map_task3",
      "metadata": {
        "trusted": true
      },
      "outputs": [
        {
          "execution_count": 27,
          "output_type": "execute_result",
          "data": {
            "text/plain": "<folium.folium.Map at 0x63040e8>",
            "text/html": "<div style=\"width:100%;\"><div style=\"position:relative;width:100%;height:0;padding-bottom:60%;\"><span style=\"color:#565656\">Make this Notebook Trusted to load map: File -> Trust Notebook</span><iframe srcdoc=\"&lt;!DOCTYPE html&gt;\n&lt;html&gt;\n&lt;head&gt;\n    \n    &lt;meta http-equiv=&quot;content-type&quot; content=&quot;text/html; charset=UTF-8&quot; /&gt;\n    &lt;script src=&quot;https://cdn.jsdelivr.net/npm/leaflet@1.9.3/dist/leaflet.js&quot;&gt;&lt;/script&gt;\n    &lt;script src=&quot;https://code.jquery.com/jquery-3.7.1.min.js&quot;&gt;&lt;/script&gt;\n    &lt;script src=&quot;https://cdn.jsdelivr.net/npm/bootstrap@5.2.2/dist/js/bootstrap.bundle.min.js&quot;&gt;&lt;/script&gt;\n    &lt;script src=&quot;https://cdnjs.cloudflare.com/ajax/libs/Leaflet.awesome-markers/2.0.2/leaflet.awesome-markers.js&quot;&gt;&lt;/script&gt;\n    &lt;link rel=&quot;stylesheet&quot; href=&quot;https://cdn.jsdelivr.net/npm/leaflet@1.9.3/dist/leaflet.css&quot;/&gt;\n    &lt;link rel=&quot;stylesheet&quot; href=&quot;https://cdn.jsdelivr.net/npm/bootstrap@5.2.2/dist/css/bootstrap.min.css&quot;/&gt;\n    &lt;link rel=&quot;stylesheet&quot; href=&quot;https://netdna.bootstrapcdn.com/bootstrap/3.0.0/css/bootstrap-glyphicons.css&quot;/&gt;\n    &lt;link rel=&quot;stylesheet&quot; href=&quot;https://cdn.jsdelivr.net/npm/@fortawesome/fontawesome-free@6.2.0/css/all.min.css&quot;/&gt;\n    &lt;link rel=&quot;stylesheet&quot; href=&quot;https://cdnjs.cloudflare.com/ajax/libs/Leaflet.awesome-markers/2.0.2/leaflet.awesome-markers.css&quot;/&gt;\n    &lt;link rel=&quot;stylesheet&quot; href=&quot;https://cdn.jsdelivr.net/gh/python-visualization/folium/folium/templates/leaflet.awesome.rotate.min.css&quot;/&gt;\n    \n            &lt;meta name=&quot;viewport&quot; content=&quot;width=device-width,\n                initial-scale=1.0, maximum-scale=1.0, user-scalable=no&quot; /&gt;\n            &lt;style&gt;\n                #map_af48f91235e1f16cb59b77d7ea4317e2 {\n                    position: relative;\n                    width: 100.0%;\n                    height: 100.0%;\n                    left: 0.0%;\n                    top: 0.0%;\n                }\n                .leaflet-container { font-size: 1rem; }\n            &lt;/style&gt;\n\n            &lt;style&gt;html, body {\n                width: 100%;\n                height: 100%;\n                margin: 0;\n                padding: 0;\n            }\n            &lt;/style&gt;\n\n            &lt;style&gt;#map {\n                position:absolute;\n                top:0;\n                bottom:0;\n                right:0;\n                left:0;\n                }\n            &lt;/style&gt;\n\n            &lt;script&gt;\n                L_NO_TOUCH = false;\n                L_DISABLE_3D = false;\n            &lt;/script&gt;\n\n        \n    &lt;script src=&quot;https://cdn.jsdelivr.net/gh/ardhi/Leaflet.MousePosition/src/L.Control.MousePosition.min.js&quot;&gt;&lt;/script&gt;\n    &lt;link rel=&quot;stylesheet&quot; href=&quot;https://cdn.jsdelivr.net/gh/ardhi/Leaflet.MousePosition/src/L.Control.MousePosition.min.css&quot;/&gt;\n&lt;/head&gt;\n&lt;body&gt;\n    \n    \n            &lt;div class=&quot;folium-map&quot; id=&quot;map_af48f91235e1f16cb59b77d7ea4317e2&quot; &gt;&lt;/div&gt;\n        \n&lt;/body&gt;\n&lt;script&gt;\n    \n    \n            var map_af48f91235e1f16cb59b77d7ea4317e2 = L.map(\n                &quot;map_af48f91235e1f16cb59b77d7ea4317e2&quot;,\n                {\n                    center: [29.559684888503615, -95.0830971930759],\n                    crs: L.CRS.EPSG3857,\n                    ...{\n  &quot;zoom&quot;: 5,\n  &quot;zoomControl&quot;: true,\n  &quot;preferCanvas&quot;: false,\n}\n\n                }\n            );\n\n            \n\n        \n    \n            var tile_layer_2af50eabf731fef08ac6108d2888ce44 = L.tileLayer(\n                &quot;https://tile.openstreetmap.org/{z}/{x}/{y}.png&quot;,\n                {\n  &quot;minZoom&quot;: 0,\n  &quot;maxZoom&quot;: 19,\n  &quot;maxNativeZoom&quot;: 19,\n  &quot;noWrap&quot;: false,\n  &quot;attribution&quot;: &quot;\\u0026copy; \\u003ca href=\\&quot;https://www.openstreetmap.org/copyright\\&quot;\\u003eOpenStreetMap\\u003c/a\\u003e contributors&quot;,\n  &quot;subdomains&quot;: &quot;abc&quot;,\n  &quot;detectRetina&quot;: false,\n  &quot;tms&quot;: false,\n  &quot;opacity&quot;: 1,\n}\n\n            );\n        \n    \n            tile_layer_2af50eabf731fef08ac6108d2888ce44.addTo(map_af48f91235e1f16cb59b77d7ea4317e2);\n        \n    \n            var marker_0a95c5c30c4fba4e63c4cc71674b6849 = L.marker(\n                [28.56230197, -80.57735648],\n                {\n}\n            ).addTo(map_af48f91235e1f16cb59b77d7ea4317e2);\n        \n    \n            var icon_9322db070d3625ed170ef191ec64a328 = L.AwesomeMarkers.icon(\n                {\n  &quot;markerColor&quot;: &quot;blue&quot;,\n  &quot;iconColor&quot;: &quot;white&quot;,\n  &quot;icon&quot;: &quot;info-sign&quot;,\n  &quot;prefix&quot;: &quot;glyphicon&quot;,\n  &quot;extraClasses&quot;: &quot;fa-rotate-0&quot;,\n}\n            );\n        \n    \n        var popup_dce110431328f23801cffa9645ed7c2b = L.popup({\n  &quot;maxWidth&quot;: &quot;100%&quot;,\n});\n\n        \n            \n                var html_366ef591f6ecf9528c3732cd3374039f = $(`&lt;div id=&quot;html_366ef591f6ecf9528c3732cd3374039f&quot; style=&quot;width: 100.0%; height: 100.0%;&quot;&gt;CCAFS LC-40&lt;/div&gt;`)[0];\n                popup_dce110431328f23801cffa9645ed7c2b.setContent(html_366ef591f6ecf9528c3732cd3374039f);\n            \n        \n\n        marker_0a95c5c30c4fba4e63c4cc71674b6849.bindPopup(popup_dce110431328f23801cffa9645ed7c2b)\n        ;\n\n        \n    \n    \n                marker_0a95c5c30c4fba4e63c4cc71674b6849.setIcon(icon_9322db070d3625ed170ef191ec64a328);\n            \n    \n            var marker_69f9d0817c84835cd7fddbdced7ba8a1 = L.marker(\n                [28.56319718, -80.57682003],\n                {\n}\n            ).addTo(map_af48f91235e1f16cb59b77d7ea4317e2);\n        \n    \n            var icon_f3e0ca70e12374ee550a93951a913d92 = L.AwesomeMarkers.icon(\n                {\n  &quot;markerColor&quot;: &quot;blue&quot;,\n  &quot;iconColor&quot;: &quot;white&quot;,\n  &quot;icon&quot;: &quot;info-sign&quot;,\n  &quot;prefix&quot;: &quot;glyphicon&quot;,\n  &quot;extraClasses&quot;: &quot;fa-rotate-0&quot;,\n}\n            );\n        \n    \n        var popup_99870a04fe1cf0cb9ea0d93bd15db880 = L.popup({\n  &quot;maxWidth&quot;: &quot;100%&quot;,\n});\n\n        \n            \n                var html_c5352a8e6f24ad4254fe9b770a88eda8 = $(`&lt;div id=&quot;html_c5352a8e6f24ad4254fe9b770a88eda8&quot; style=&quot;width: 100.0%; height: 100.0%;&quot;&gt;CCAFS SLC-40&lt;/div&gt;`)[0];\n                popup_99870a04fe1cf0cb9ea0d93bd15db880.setContent(html_c5352a8e6f24ad4254fe9b770a88eda8);\n            \n        \n\n        marker_69f9d0817c84835cd7fddbdced7ba8a1.bindPopup(popup_99870a04fe1cf0cb9ea0d93bd15db880)\n        ;\n\n        \n    \n    \n                marker_69f9d0817c84835cd7fddbdced7ba8a1.setIcon(icon_f3e0ca70e12374ee550a93951a913d92);\n            \n    \n            var marker_664c7cdb3df40b49fac053fc77dccd8c = L.marker(\n                [28.57325457, -80.64689529],\n                {\n}\n            ).addTo(map_af48f91235e1f16cb59b77d7ea4317e2);\n        \n    \n            var icon_7e17fe93284fca98fffddb2a9d5c789d = L.AwesomeMarkers.icon(\n                {\n  &quot;markerColor&quot;: &quot;blue&quot;,\n  &quot;iconColor&quot;: &quot;white&quot;,\n  &quot;icon&quot;: &quot;info-sign&quot;,\n  &quot;prefix&quot;: &quot;glyphicon&quot;,\n  &quot;extraClasses&quot;: &quot;fa-rotate-0&quot;,\n}\n            );\n        \n    \n        var popup_e2e210bd1ca37f819dcf2217369d95a2 = L.popup({\n  &quot;maxWidth&quot;: &quot;100%&quot;,\n});\n\n        \n            \n                var html_58eb80fb04b6ef1a2c4b261f74dc03c0 = $(`&lt;div id=&quot;html_58eb80fb04b6ef1a2c4b261f74dc03c0&quot; style=&quot;width: 100.0%; height: 100.0%;&quot;&gt;KSC LC-39A&lt;/div&gt;`)[0];\n                popup_e2e210bd1ca37f819dcf2217369d95a2.setContent(html_58eb80fb04b6ef1a2c4b261f74dc03c0);\n            \n        \n\n        marker_664c7cdb3df40b49fac053fc77dccd8c.bindPopup(popup_e2e210bd1ca37f819dcf2217369d95a2)\n        ;\n\n        \n    \n    \n                marker_664c7cdb3df40b49fac053fc77dccd8c.setIcon(icon_7e17fe93284fca98fffddb2a9d5c789d);\n            \n    \n            var marker_745d465c62f8e87549b17a3c08eafc49 = L.marker(\n                [34.63283416, -120.6107455],\n                {\n}\n            ).addTo(map_af48f91235e1f16cb59b77d7ea4317e2);\n        \n    \n            var icon_fb8e2c8c6a3780999e5c9ac5622889fb = L.AwesomeMarkers.icon(\n                {\n  &quot;markerColor&quot;: &quot;blue&quot;,\n  &quot;iconColor&quot;: &quot;white&quot;,\n  &quot;icon&quot;: &quot;info-sign&quot;,\n  &quot;prefix&quot;: &quot;glyphicon&quot;,\n  &quot;extraClasses&quot;: &quot;fa-rotate-0&quot;,\n}\n            );\n        \n    \n        var popup_e0430c427628feea876732f35f6d0063 = L.popup({\n  &quot;maxWidth&quot;: &quot;100%&quot;,\n});\n\n        \n            \n                var html_c61a50d377a22272be64751f579e70ce = $(`&lt;div id=&quot;html_c61a50d377a22272be64751f579e70ce&quot; style=&quot;width: 100.0%; height: 100.0%;&quot;&gt;VAFB SLC-4E&lt;/div&gt;`)[0];\n                popup_e0430c427628feea876732f35f6d0063.setContent(html_c61a50d377a22272be64751f579e70ce);\n            \n        \n\n        marker_745d465c62f8e87549b17a3c08eafc49.bindPopup(popup_e0430c427628feea876732f35f6d0063)\n        ;\n\n        \n    \n    \n                marker_745d465c62f8e87549b17a3c08eafc49.setIcon(icon_fb8e2c8c6a3780999e5c9ac5622889fb);\n            \n    \n            var marker_f610f6a5a829cb4124f063ae000adff5 = L.marker(\n                [28.5636, -80.5716],\n                {\n}\n            ).addTo(map_af48f91235e1f16cb59b77d7ea4317e2);\n        \n    \n            var div_icon_281ee098b3387d3a0914fba2907dcab6 = L.divIcon({\n  &quot;html&quot;: &quot;\\u003cdiv style=\\&quot;font-size: 12; color:blue;\\&quot;\\u003e\\u003cb\\u003eCosta\\u003cbr\\u003e5.87 KM\\u003c/b\\u003e\\u003c/div\\u003e&quot;,\n  &quot;iconSize&quot;: [20, 20],\n  &quot;iconAnchor&quot;: [0, 0],\n  &quot;className&quot;: &quot;empty&quot;,\n});\n        \n    \n                marker_f610f6a5a829cb4124f063ae000adff5.setIcon(div_icon_281ee098b3387d3a0914fba2907dcab6);\n            \n    \n            var poly_line_ca43f064794d70c8705cc2533a0782fb = L.polyline(\n                [[28.6080585, -80.6039558], [28.5636, -80.5716]],\n                {&quot;bubblingMouseEvents&quot;: true, &quot;color&quot;: &quot;blue&quot;, &quot;dashArray&quot;: null, &quot;dashOffset&quot;: null, &quot;fill&quot;: false, &quot;fillColor&quot;: &quot;blue&quot;, &quot;fillOpacity&quot;: 0.2, &quot;fillRule&quot;: &quot;evenodd&quot;, &quot;lineCap&quot;: &quot;round&quot;, &quot;lineJoin&quot;: &quot;round&quot;, &quot;noClip&quot;: false, &quot;opacity&quot;: 1.0, &quot;smoothFactor&quot;: 1.0, &quot;stroke&quot;: true, &quot;weight&quot;: 2}\n            ).addTo(map_af48f91235e1f16cb59b77d7ea4317e2);\n        \n    \n            var marker_bfc279a01e4a52561a66bad6501a7530 = L.marker(\n                [28.32, -80.6076],\n                {\n}\n            ).addTo(map_af48f91235e1f16cb59b77d7ea4317e2);\n        \n    \n            var div_icon_1277117385e4088606d40c2212d62ea8 = L.divIcon({\n  &quot;html&quot;: &quot;\\u003cdiv style=\\&quot;font-size: 12; color:green;\\&quot;\\u003e\\u003cb\\u003eCiudad\\u003cbr\\u003e32.04 KM\\u003c/b\\u003e\\u003c/div\\u003e&quot;,\n  &quot;iconSize&quot;: [20, 20],\n  &quot;iconAnchor&quot;: [0, 0],\n  &quot;className&quot;: &quot;empty&quot;,\n});\n        \n    \n                marker_bfc279a01e4a52561a66bad6501a7530.setIcon(div_icon_1277117385e4088606d40c2212d62ea8);\n            \n    \n            var poly_line_b73654600898dcec660110ed436fc7af = L.polyline(\n                [[28.6080585, -80.6039558], [28.32, -80.6076]],\n                {&quot;bubblingMouseEvents&quot;: true, &quot;color&quot;: &quot;green&quot;, &quot;dashArray&quot;: null, &quot;dashOffset&quot;: null, &quot;fill&quot;: false, &quot;fillColor&quot;: &quot;green&quot;, &quot;fillOpacity&quot;: 0.2, &quot;fillRule&quot;: &quot;evenodd&quot;, &quot;lineCap&quot;: &quot;round&quot;, &quot;lineJoin&quot;: &quot;round&quot;, &quot;noClip&quot;: false, &quot;opacity&quot;: 1.0, &quot;smoothFactor&quot;: 1.0, &quot;stroke&quot;: true, &quot;weight&quot;: 2}\n            ).addTo(map_af48f91235e1f16cb59b77d7ea4317e2);\n        \n    \n            var marker_90b4253be6be18566dfb74c7c21605b6 = L.marker(\n                [28.605, -80.62],\n                {\n}\n            ).addTo(map_af48f91235e1f16cb59b77d7ea4317e2);\n        \n    \n            var div_icon_bb260dc14f4a13de6ce56b802f1ee6e7 = L.divIcon({\n  &quot;html&quot;: &quot;\\u003cdiv style=\\&quot;font-size: 12; color:orange;\\&quot;\\u003e\\u003cb\\u003eCarretera\\u003cbr\\u003e1.60 KM\\u003c/b\\u003e\\u003c/div\\u003e&quot;,\n  &quot;iconSize&quot;: [20, 20],\n  &quot;iconAnchor&quot;: [0, 0],\n  &quot;className&quot;: &quot;empty&quot;,\n});\n        \n    \n                marker_90b4253be6be18566dfb74c7c21605b6.setIcon(div_icon_bb260dc14f4a13de6ce56b802f1ee6e7);\n            \n    \n            var poly_line_ecac80bfaeccb884da3b0c4651871e25 = L.polyline(\n                [[28.6080585, -80.6039558], [28.605, -80.62]],\n                {&quot;bubblingMouseEvents&quot;: true, &quot;color&quot;: &quot;orange&quot;, &quot;dashArray&quot;: null, &quot;dashOffset&quot;: null, &quot;fill&quot;: false, &quot;fillColor&quot;: &quot;orange&quot;, &quot;fillOpacity&quot;: 0.2, &quot;fillRule&quot;: &quot;evenodd&quot;, &quot;lineCap&quot;: &quot;round&quot;, &quot;lineJoin&quot;: &quot;round&quot;, &quot;noClip&quot;: false, &quot;opacity&quot;: 1.0, &quot;smoothFactor&quot;: 1.0, &quot;stroke&quot;: true, &quot;weight&quot;: 2}\n            ).addTo(map_af48f91235e1f16cb59b77d7ea4317e2);\n        \n    \n            var marker_c119c3ee71513226af81504328d7c5e5 = L.marker(\n                [28.595, -80.65],\n                {\n}\n            ).addTo(map_af48f91235e1f16cb59b77d7ea4317e2);\n        \n    \n            var div_icon_a0fe1160e5f5b45f1db7cefc6386baf3 = L.divIcon({\n  &quot;html&quot;: &quot;\\u003cdiv style=\\&quot;font-size: 12; color:purple;\\&quot;\\u003e\\u003cb\\u003eFerrocarril\\u003cbr\\u003e4.73 KM\\u003c/b\\u003e\\u003c/div\\u003e&quot;,\n  &quot;iconSize&quot;: [20, 20],\n  &quot;iconAnchor&quot;: [0, 0],\n  &quot;className&quot;: &quot;empty&quot;,\n});\n        \n    \n                marker_c119c3ee71513226af81504328d7c5e5.setIcon(div_icon_a0fe1160e5f5b45f1db7cefc6386baf3);\n            \n    \n            var poly_line_c0242a9358bc223b7d52bd6d3d0fee85 = L.polyline(\n                [[28.6080585, -80.6039558], [28.595, -80.65]],\n                {&quot;bubblingMouseEvents&quot;: true, &quot;color&quot;: &quot;purple&quot;, &quot;dashArray&quot;: null, &quot;dashOffset&quot;: null, &quot;fill&quot;: false, &quot;fillColor&quot;: &quot;purple&quot;, &quot;fillOpacity&quot;: 0.2, &quot;fillRule&quot;: &quot;evenodd&quot;, &quot;lineCap&quot;: &quot;round&quot;, &quot;lineJoin&quot;: &quot;round&quot;, &quot;noClip&quot;: false, &quot;opacity&quot;: 1.0, &quot;smoothFactor&quot;: 1.0, &quot;stroke&quot;: true, &quot;weight&quot;: 2}\n            ).addTo(map_af48f91235e1f16cb59b77d7ea4317e2);\n        \n    \n            var mouse_position_880233520201a236dc5b4b00d7389d18 = new L.Control.MousePosition(\n                {\n  &quot;position&quot;: &quot;topright&quot;,\n  &quot;separator&quot;: &quot; Long: &quot;,\n  &quot;emptyString&quot;: &quot;NaN&quot;,\n  &quot;lngFirst&quot;: false,\n  &quot;numDigits&quot;: 20,\n  &quot;prefix&quot;: &quot;Lat:&quot;,\n}\n            );\n            mouse_position_880233520201a236dc5b4b00d7389d18.options[&quot;latFormatter&quot;] =\n                function(num) {return L.Util.formatNum(num, 5);};;\n            mouse_position_880233520201a236dc5b4b00d7389d18.options[&quot;lngFormatter&quot;] =\n                function(num) {return L.Util.formatNum(num, 5);};;\n            map_af48f91235e1f16cb59b77d7ea4317e2.addControl(mouse_position_880233520201a236dc5b4b00d7389d18);\n        \n&lt;/script&gt;\n&lt;/html&gt;\" style=\"position:absolute;width:100%;height:100%;left:0;top:0;border:none !important;\" allowfullscreen webkitallowfullscreen mozallowfullscreen></iframe></div></div>"
          },
          "metadata": {}
        }
      ],
      "execution_count": 27
    },
    {
      "cell_type": "markdown",
      "source": "Now zoom in to a launch site and explore its proximity to see if you can easily find any railway, highway, coastline, etc. Move your mouse to these points and mark down their coordinates (shown on the top-left) in order to the distance to the launch site.\n",
      "metadata": {}
    },
    {
      "cell_type": "markdown",
      "source": "Now zoom in to a launch site and explore its proximity to see if you can easily find any railway, highway, coastline, etc. Move your mouse to these points and mark down their coordinates (shown on the top-left) in order to the distance to the launch site.\n",
      "metadata": {}
    },
    {
      "cell_type": "code",
      "source": "from math import sin, cos, sqrt, atan2, radians\n\ndef calculate_distance(lat1, lon1, lat2, lon2):\n    # approximate radius of earth in km\n    R = 6373.0\n\n    lat1 = radians(lat1)\n    lon1 = radians(lon1)\n    lat2 = radians(lat2)\n    lon2 = radians(lon2)\n\n    dlon = lon2 - lon1\n    dlat = lat2 - lat1\n\n    a = sin(dlat / 2)**2 + cos(lat1) * cos(lat2) * sin(dlon / 2)**2\n    c = 2 * atan2(sqrt(a), sqrt(1 - a))\n\n    distance = R * c\n    return distance",
      "metadata": {
        "trusted": true
      },
      "outputs": [],
      "execution_count": 14
    },
    {
      "cell_type": "markdown",
      "source": "*TODO:* Mark down a point on the closest coastline using MousePosition and calculate the distance between the coastline point and the launch site.\n",
      "metadata": {}
    },
    {
      "cell_type": "code",
      "source": "# find coordinate of the closet coastline\n# e.g.,: Lat: 28.56367  Lon: -80.57163\n# distance_coastline = calculate_distance(launch_site_lat, launch_site_lon, coastline_lat, coastline_lon)\n# EJEMPLO: Análisis de proximidades para KSC LC-39A\n# Coordenadas de KSC LC-39A (Kennedy Space Center)\n#ksc_lat, ksc_lon = 28.6080585, -80.6039558\n\n# Coordenadas de ejemplo de proximidades (obtenidas con MousePosition)\n# Estas son coordenadas aproximadas que encontrarías en el mapa real\n# EJEMPLO: Análisis para KSC LC-39A\nlaunch_site_lat = 28.6080585\nlaunch_site_lon = -80.6039558\n\n# Coordenadas de ejemplo (usa MousePosition para encontrar las reales)\ncoastline_lat, coastline_lon = 28.5636, -80.5716\ncity_lat, city_lon = 28.3200, -80.6076\nhighway_lat, highway_lon = 28.6050, -80.6200\nrailway_lat, railway_lon = 28.5950, -80.6500\n\n# Calcular distancias\ndistance_coastline = calculate_distance(launch_site_lat, launch_site_lon, coastline_lat, coastline_lon)\ndistance_city = calculate_distance(launch_site_lat, launch_site_lon, city_lat, city_lon)\ndistance_highway = calculate_distance(launch_site_lat, launch_site_lon, highway_lat, highway_lon)\ndistance_railway = calculate_distance(launch_site_lat, launch_site_lon, railway_lat, railway_lon)\n\nprint(f\"Distancias desde KSC LC-39A:\")\nprint(f\"- Costa: {distance_coastline:.2f} km\")\nprint(f\"- Ciudad: {distance_city:.2f} km\")\nprint(f\"- Carretera: {distance_highway:.2f} km\")\nprint(f\"- Ferrocarril: {distance_railway:.2f} km\")",
      "metadata": {
        "trusted": true
      },
      "outputs": [
        {
          "name": "stdout",
          "text": "Distancias desde KSC LC-39A:\n- Costa: 5.87 km\n- Ciudad: 32.04 km\n- Carretera: 1.60 km\n- Ferrocarril: 4.73 km\n",
          "output_type": "stream"
        }
      ],
      "execution_count": 28
    },
    {
      "cell_type": "code",
      "source": "# Create and add a folium.Marker on your selected closest coastline point on the map\n# Display the distance between coastline point and launch site using the icon property \n# for example\n# distance_marker = folium.Marker(\n#    coordinate,\n#    icon=DivIcon(\n#        icon_size=(20,20),\n#        icon_anchor=(0,0),\n#        html='<div style=\"font-size: 12; color:#d35400;\"><b>%s</b></div>' % \"{:10.2f} KM\".format(distance),\n#        )\n#    )\n# Coordenadas de KSC LC-39A (Kennedy Space Center)\n\n# Agregar marcadores de distancia y líneas\n# Agregar marcadores y líneas de distancia\nproximities = [\n    ([coastline_lat, coastline_lon], distance_coastline, \"Costa\", \"blue\"),\n    ([city_lat, city_lon], distance_city, \"Ciudad\", \"green\"),\n    ([highway_lat, highway_lon], distance_highway, \"Carretera\", \"orange\"),\n    ([railway_lat, railway_lon], distance_railway, \"Ferrocarril\", \"purple\")\n]\n\nksc_coordinate = [launch_site_lat, launch_site_lon]\n\nfor coord, distance, label, color in proximities:\n    # Marcador de distancia\n    distance_marker = folium.Marker(\n        coord,\n        icon=DivIcon(\n            icon_size=(30,30),\n            icon_anchor=(0,0),\n            html=f'<div style=\"font-size: 10px; color:{color}; background-color:white; padding:2px; border-radius:3px;\"><b>{label}<br>{distance:.1f} KM</b></div>'\n        )\n    )\n    site_map_task3.add_child(distance_marker)\n    \n    # Línea conectora\n    line = folium.PolyLine(\n        locations=[ksc_coordinate, coord], \n        weight=2, \n        color=color,\n        opacity=0.8\n    )\n    site_map_task3.add_child(line)\nsite_map_task3",
      "metadata": {
        "trusted": true
      },
      "outputs": [
        {
          "execution_count": 30,
          "output_type": "execute_result",
          "data": {
            "text/plain": "<folium.folium.Map at 0x63040e8>",
            "text/html": "<div style=\"width:100%;\"><div style=\"position:relative;width:100%;height:0;padding-bottom:60%;\"><span style=\"color:#565656\">Make this Notebook Trusted to load map: File -> Trust Notebook</span><iframe srcdoc=\"&lt;!DOCTYPE html&gt;\n&lt;html&gt;\n&lt;head&gt;\n    \n    &lt;meta http-equiv=&quot;content-type&quot; content=&quot;text/html; charset=UTF-8&quot; /&gt;\n    &lt;script src=&quot;https://cdn.jsdelivr.net/npm/leaflet@1.9.3/dist/leaflet.js&quot;&gt;&lt;/script&gt;\n    &lt;script src=&quot;https://code.jquery.com/jquery-3.7.1.min.js&quot;&gt;&lt;/script&gt;\n    &lt;script src=&quot;https://cdn.jsdelivr.net/npm/bootstrap@5.2.2/dist/js/bootstrap.bundle.min.js&quot;&gt;&lt;/script&gt;\n    &lt;script src=&quot;https://cdnjs.cloudflare.com/ajax/libs/Leaflet.awesome-markers/2.0.2/leaflet.awesome-markers.js&quot;&gt;&lt;/script&gt;\n    &lt;link rel=&quot;stylesheet&quot; href=&quot;https://cdn.jsdelivr.net/npm/leaflet@1.9.3/dist/leaflet.css&quot;/&gt;\n    &lt;link rel=&quot;stylesheet&quot; href=&quot;https://cdn.jsdelivr.net/npm/bootstrap@5.2.2/dist/css/bootstrap.min.css&quot;/&gt;\n    &lt;link rel=&quot;stylesheet&quot; href=&quot;https://netdna.bootstrapcdn.com/bootstrap/3.0.0/css/bootstrap-glyphicons.css&quot;/&gt;\n    &lt;link rel=&quot;stylesheet&quot; href=&quot;https://cdn.jsdelivr.net/npm/@fortawesome/fontawesome-free@6.2.0/css/all.min.css&quot;/&gt;\n    &lt;link rel=&quot;stylesheet&quot; href=&quot;https://cdnjs.cloudflare.com/ajax/libs/Leaflet.awesome-markers/2.0.2/leaflet.awesome-markers.css&quot;/&gt;\n    &lt;link rel=&quot;stylesheet&quot; href=&quot;https://cdn.jsdelivr.net/gh/python-visualization/folium/folium/templates/leaflet.awesome.rotate.min.css&quot;/&gt;\n    \n            &lt;meta name=&quot;viewport&quot; content=&quot;width=device-width,\n                initial-scale=1.0, maximum-scale=1.0, user-scalable=no&quot; /&gt;\n            &lt;style&gt;\n                #map_af48f91235e1f16cb59b77d7ea4317e2 {\n                    position: relative;\n                    width: 100.0%;\n                    height: 100.0%;\n                    left: 0.0%;\n                    top: 0.0%;\n                }\n                .leaflet-container { font-size: 1rem; }\n            &lt;/style&gt;\n\n            &lt;style&gt;html, body {\n                width: 100%;\n                height: 100%;\n                margin: 0;\n                padding: 0;\n            }\n            &lt;/style&gt;\n\n            &lt;style&gt;#map {\n                position:absolute;\n                top:0;\n                bottom:0;\n                right:0;\n                left:0;\n                }\n            &lt;/style&gt;\n\n            &lt;script&gt;\n                L_NO_TOUCH = false;\n                L_DISABLE_3D = false;\n            &lt;/script&gt;\n\n        \n    &lt;script src=&quot;https://cdn.jsdelivr.net/gh/ardhi/Leaflet.MousePosition/src/L.Control.MousePosition.min.js&quot;&gt;&lt;/script&gt;\n    &lt;link rel=&quot;stylesheet&quot; href=&quot;https://cdn.jsdelivr.net/gh/ardhi/Leaflet.MousePosition/src/L.Control.MousePosition.min.css&quot;/&gt;\n&lt;/head&gt;\n&lt;body&gt;\n    \n    \n            &lt;div class=&quot;folium-map&quot; id=&quot;map_af48f91235e1f16cb59b77d7ea4317e2&quot; &gt;&lt;/div&gt;\n        \n&lt;/body&gt;\n&lt;script&gt;\n    \n    \n            var map_af48f91235e1f16cb59b77d7ea4317e2 = L.map(\n                &quot;map_af48f91235e1f16cb59b77d7ea4317e2&quot;,\n                {\n                    center: [29.559684888503615, -95.0830971930759],\n                    crs: L.CRS.EPSG3857,\n                    ...{\n  &quot;zoom&quot;: 5,\n  &quot;zoomControl&quot;: true,\n  &quot;preferCanvas&quot;: false,\n}\n\n                }\n            );\n\n            \n\n        \n    \n            var tile_layer_2af50eabf731fef08ac6108d2888ce44 = L.tileLayer(\n                &quot;https://tile.openstreetmap.org/{z}/{x}/{y}.png&quot;,\n                {\n  &quot;minZoom&quot;: 0,\n  &quot;maxZoom&quot;: 19,\n  &quot;maxNativeZoom&quot;: 19,\n  &quot;noWrap&quot;: false,\n  &quot;attribution&quot;: &quot;\\u0026copy; \\u003ca href=\\&quot;https://www.openstreetmap.org/copyright\\&quot;\\u003eOpenStreetMap\\u003c/a\\u003e contributors&quot;,\n  &quot;subdomains&quot;: &quot;abc&quot;,\n  &quot;detectRetina&quot;: false,\n  &quot;tms&quot;: false,\n  &quot;opacity&quot;: 1,\n}\n\n            );\n        \n    \n            tile_layer_2af50eabf731fef08ac6108d2888ce44.addTo(map_af48f91235e1f16cb59b77d7ea4317e2);\n        \n    \n            var marker_0a95c5c30c4fba4e63c4cc71674b6849 = L.marker(\n                [28.56230197, -80.57735648],\n                {\n}\n            ).addTo(map_af48f91235e1f16cb59b77d7ea4317e2);\n        \n    \n            var icon_9322db070d3625ed170ef191ec64a328 = L.AwesomeMarkers.icon(\n                {\n  &quot;markerColor&quot;: &quot;blue&quot;,\n  &quot;iconColor&quot;: &quot;white&quot;,\n  &quot;icon&quot;: &quot;info-sign&quot;,\n  &quot;prefix&quot;: &quot;glyphicon&quot;,\n  &quot;extraClasses&quot;: &quot;fa-rotate-0&quot;,\n}\n            );\n        \n    \n        var popup_dce110431328f23801cffa9645ed7c2b = L.popup({\n  &quot;maxWidth&quot;: &quot;100%&quot;,\n});\n\n        \n            \n                var html_366ef591f6ecf9528c3732cd3374039f = $(`&lt;div id=&quot;html_366ef591f6ecf9528c3732cd3374039f&quot; style=&quot;width: 100.0%; height: 100.0%;&quot;&gt;CCAFS LC-40&lt;/div&gt;`)[0];\n                popup_dce110431328f23801cffa9645ed7c2b.setContent(html_366ef591f6ecf9528c3732cd3374039f);\n            \n        \n\n        marker_0a95c5c30c4fba4e63c4cc71674b6849.bindPopup(popup_dce110431328f23801cffa9645ed7c2b)\n        ;\n\n        \n    \n    \n                marker_0a95c5c30c4fba4e63c4cc71674b6849.setIcon(icon_9322db070d3625ed170ef191ec64a328);\n            \n    \n            var marker_69f9d0817c84835cd7fddbdced7ba8a1 = L.marker(\n                [28.56319718, -80.57682003],\n                {\n}\n            ).addTo(map_af48f91235e1f16cb59b77d7ea4317e2);\n        \n    \n            var icon_f3e0ca70e12374ee550a93951a913d92 = L.AwesomeMarkers.icon(\n                {\n  &quot;markerColor&quot;: &quot;blue&quot;,\n  &quot;iconColor&quot;: &quot;white&quot;,\n  &quot;icon&quot;: &quot;info-sign&quot;,\n  &quot;prefix&quot;: &quot;glyphicon&quot;,\n  &quot;extraClasses&quot;: &quot;fa-rotate-0&quot;,\n}\n            );\n        \n    \n        var popup_99870a04fe1cf0cb9ea0d93bd15db880 = L.popup({\n  &quot;maxWidth&quot;: &quot;100%&quot;,\n});\n\n        \n            \n                var html_c5352a8e6f24ad4254fe9b770a88eda8 = $(`&lt;div id=&quot;html_c5352a8e6f24ad4254fe9b770a88eda8&quot; style=&quot;width: 100.0%; height: 100.0%;&quot;&gt;CCAFS SLC-40&lt;/div&gt;`)[0];\n                popup_99870a04fe1cf0cb9ea0d93bd15db880.setContent(html_c5352a8e6f24ad4254fe9b770a88eda8);\n            \n        \n\n        marker_69f9d0817c84835cd7fddbdced7ba8a1.bindPopup(popup_99870a04fe1cf0cb9ea0d93bd15db880)\n        ;\n\n        \n    \n    \n                marker_69f9d0817c84835cd7fddbdced7ba8a1.setIcon(icon_f3e0ca70e12374ee550a93951a913d92);\n            \n    \n            var marker_664c7cdb3df40b49fac053fc77dccd8c = L.marker(\n                [28.57325457, -80.64689529],\n                {\n}\n            ).addTo(map_af48f91235e1f16cb59b77d7ea4317e2);\n        \n    \n            var icon_7e17fe93284fca98fffddb2a9d5c789d = L.AwesomeMarkers.icon(\n                {\n  &quot;markerColor&quot;: &quot;blue&quot;,\n  &quot;iconColor&quot;: &quot;white&quot;,\n  &quot;icon&quot;: &quot;info-sign&quot;,\n  &quot;prefix&quot;: &quot;glyphicon&quot;,\n  &quot;extraClasses&quot;: &quot;fa-rotate-0&quot;,\n}\n            );\n        \n    \n        var popup_e2e210bd1ca37f819dcf2217369d95a2 = L.popup({\n  &quot;maxWidth&quot;: &quot;100%&quot;,\n});\n\n        \n            \n                var html_58eb80fb04b6ef1a2c4b261f74dc03c0 = $(`&lt;div id=&quot;html_58eb80fb04b6ef1a2c4b261f74dc03c0&quot; style=&quot;width: 100.0%; height: 100.0%;&quot;&gt;KSC LC-39A&lt;/div&gt;`)[0];\n                popup_e2e210bd1ca37f819dcf2217369d95a2.setContent(html_58eb80fb04b6ef1a2c4b261f74dc03c0);\n            \n        \n\n        marker_664c7cdb3df40b49fac053fc77dccd8c.bindPopup(popup_e2e210bd1ca37f819dcf2217369d95a2)\n        ;\n\n        \n    \n    \n                marker_664c7cdb3df40b49fac053fc77dccd8c.setIcon(icon_7e17fe93284fca98fffddb2a9d5c789d);\n            \n    \n            var marker_745d465c62f8e87549b17a3c08eafc49 = L.marker(\n                [34.63283416, -120.6107455],\n                {\n}\n            ).addTo(map_af48f91235e1f16cb59b77d7ea4317e2);\n        \n    \n            var icon_fb8e2c8c6a3780999e5c9ac5622889fb = L.AwesomeMarkers.icon(\n                {\n  &quot;markerColor&quot;: &quot;blue&quot;,\n  &quot;iconColor&quot;: &quot;white&quot;,\n  &quot;icon&quot;: &quot;info-sign&quot;,\n  &quot;prefix&quot;: &quot;glyphicon&quot;,\n  &quot;extraClasses&quot;: &quot;fa-rotate-0&quot;,\n}\n            );\n        \n    \n        var popup_e0430c427628feea876732f35f6d0063 = L.popup({\n  &quot;maxWidth&quot;: &quot;100%&quot;,\n});\n\n        \n            \n                var html_c61a50d377a22272be64751f579e70ce = $(`&lt;div id=&quot;html_c61a50d377a22272be64751f579e70ce&quot; style=&quot;width: 100.0%; height: 100.0%;&quot;&gt;VAFB SLC-4E&lt;/div&gt;`)[0];\n                popup_e0430c427628feea876732f35f6d0063.setContent(html_c61a50d377a22272be64751f579e70ce);\n            \n        \n\n        marker_745d465c62f8e87549b17a3c08eafc49.bindPopup(popup_e0430c427628feea876732f35f6d0063)\n        ;\n\n        \n    \n    \n                marker_745d465c62f8e87549b17a3c08eafc49.setIcon(icon_fb8e2c8c6a3780999e5c9ac5622889fb);\n            \n    \n            var marker_f610f6a5a829cb4124f063ae000adff5 = L.marker(\n                [28.5636, -80.5716],\n                {\n}\n            ).addTo(map_af48f91235e1f16cb59b77d7ea4317e2);\n        \n    \n            var div_icon_281ee098b3387d3a0914fba2907dcab6 = L.divIcon({\n  &quot;html&quot;: &quot;\\u003cdiv style=\\&quot;font-size: 12; color:blue;\\&quot;\\u003e\\u003cb\\u003eCosta\\u003cbr\\u003e5.87 KM\\u003c/b\\u003e\\u003c/div\\u003e&quot;,\n  &quot;iconSize&quot;: [20, 20],\n  &quot;iconAnchor&quot;: [0, 0],\n  &quot;className&quot;: &quot;empty&quot;,\n});\n        \n    \n                marker_f610f6a5a829cb4124f063ae000adff5.setIcon(div_icon_281ee098b3387d3a0914fba2907dcab6);\n            \n    \n            var poly_line_ca43f064794d70c8705cc2533a0782fb = L.polyline(\n                [[28.6080585, -80.6039558], [28.5636, -80.5716]],\n                {&quot;bubblingMouseEvents&quot;: true, &quot;color&quot;: &quot;blue&quot;, &quot;dashArray&quot;: null, &quot;dashOffset&quot;: null, &quot;fill&quot;: false, &quot;fillColor&quot;: &quot;blue&quot;, &quot;fillOpacity&quot;: 0.2, &quot;fillRule&quot;: &quot;evenodd&quot;, &quot;lineCap&quot;: &quot;round&quot;, &quot;lineJoin&quot;: &quot;round&quot;, &quot;noClip&quot;: false, &quot;opacity&quot;: 1.0, &quot;smoothFactor&quot;: 1.0, &quot;stroke&quot;: true, &quot;weight&quot;: 2}\n            ).addTo(map_af48f91235e1f16cb59b77d7ea4317e2);\n        \n    \n            var marker_bfc279a01e4a52561a66bad6501a7530 = L.marker(\n                [28.32, -80.6076],\n                {\n}\n            ).addTo(map_af48f91235e1f16cb59b77d7ea4317e2);\n        \n    \n            var div_icon_1277117385e4088606d40c2212d62ea8 = L.divIcon({\n  &quot;html&quot;: &quot;\\u003cdiv style=\\&quot;font-size: 12; color:green;\\&quot;\\u003e\\u003cb\\u003eCiudad\\u003cbr\\u003e32.04 KM\\u003c/b\\u003e\\u003c/div\\u003e&quot;,\n  &quot;iconSize&quot;: [20, 20],\n  &quot;iconAnchor&quot;: [0, 0],\n  &quot;className&quot;: &quot;empty&quot;,\n});\n        \n    \n                marker_bfc279a01e4a52561a66bad6501a7530.setIcon(div_icon_1277117385e4088606d40c2212d62ea8);\n            \n    \n            var poly_line_b73654600898dcec660110ed436fc7af = L.polyline(\n                [[28.6080585, -80.6039558], [28.32, -80.6076]],\n                {&quot;bubblingMouseEvents&quot;: true, &quot;color&quot;: &quot;green&quot;, &quot;dashArray&quot;: null, &quot;dashOffset&quot;: null, &quot;fill&quot;: false, &quot;fillColor&quot;: &quot;green&quot;, &quot;fillOpacity&quot;: 0.2, &quot;fillRule&quot;: &quot;evenodd&quot;, &quot;lineCap&quot;: &quot;round&quot;, &quot;lineJoin&quot;: &quot;round&quot;, &quot;noClip&quot;: false, &quot;opacity&quot;: 1.0, &quot;smoothFactor&quot;: 1.0, &quot;stroke&quot;: true, &quot;weight&quot;: 2}\n            ).addTo(map_af48f91235e1f16cb59b77d7ea4317e2);\n        \n    \n            var marker_90b4253be6be18566dfb74c7c21605b6 = L.marker(\n                [28.605, -80.62],\n                {\n}\n            ).addTo(map_af48f91235e1f16cb59b77d7ea4317e2);\n        \n    \n            var div_icon_bb260dc14f4a13de6ce56b802f1ee6e7 = L.divIcon({\n  &quot;html&quot;: &quot;\\u003cdiv style=\\&quot;font-size: 12; color:orange;\\&quot;\\u003e\\u003cb\\u003eCarretera\\u003cbr\\u003e1.60 KM\\u003c/b\\u003e\\u003c/div\\u003e&quot;,\n  &quot;iconSize&quot;: [20, 20],\n  &quot;iconAnchor&quot;: [0, 0],\n  &quot;className&quot;: &quot;empty&quot;,\n});\n        \n    \n                marker_90b4253be6be18566dfb74c7c21605b6.setIcon(div_icon_bb260dc14f4a13de6ce56b802f1ee6e7);\n            \n    \n            var poly_line_ecac80bfaeccb884da3b0c4651871e25 = L.polyline(\n                [[28.6080585, -80.6039558], [28.605, -80.62]],\n                {&quot;bubblingMouseEvents&quot;: true, &quot;color&quot;: &quot;orange&quot;, &quot;dashArray&quot;: null, &quot;dashOffset&quot;: null, &quot;fill&quot;: false, &quot;fillColor&quot;: &quot;orange&quot;, &quot;fillOpacity&quot;: 0.2, &quot;fillRule&quot;: &quot;evenodd&quot;, &quot;lineCap&quot;: &quot;round&quot;, &quot;lineJoin&quot;: &quot;round&quot;, &quot;noClip&quot;: false, &quot;opacity&quot;: 1.0, &quot;smoothFactor&quot;: 1.0, &quot;stroke&quot;: true, &quot;weight&quot;: 2}\n            ).addTo(map_af48f91235e1f16cb59b77d7ea4317e2);\n        \n    \n            var marker_c119c3ee71513226af81504328d7c5e5 = L.marker(\n                [28.595, -80.65],\n                {\n}\n            ).addTo(map_af48f91235e1f16cb59b77d7ea4317e2);\n        \n    \n            var div_icon_a0fe1160e5f5b45f1db7cefc6386baf3 = L.divIcon({\n  &quot;html&quot;: &quot;\\u003cdiv style=\\&quot;font-size: 12; color:purple;\\&quot;\\u003e\\u003cb\\u003eFerrocarril\\u003cbr\\u003e4.73 KM\\u003c/b\\u003e\\u003c/div\\u003e&quot;,\n  &quot;iconSize&quot;: [20, 20],\n  &quot;iconAnchor&quot;: [0, 0],\n  &quot;className&quot;: &quot;empty&quot;,\n});\n        \n    \n                marker_c119c3ee71513226af81504328d7c5e5.setIcon(div_icon_a0fe1160e5f5b45f1db7cefc6386baf3);\n            \n    \n            var poly_line_c0242a9358bc223b7d52bd6d3d0fee85 = L.polyline(\n                [[28.6080585, -80.6039558], [28.595, -80.65]],\n                {&quot;bubblingMouseEvents&quot;: true, &quot;color&quot;: &quot;purple&quot;, &quot;dashArray&quot;: null, &quot;dashOffset&quot;: null, &quot;fill&quot;: false, &quot;fillColor&quot;: &quot;purple&quot;, &quot;fillOpacity&quot;: 0.2, &quot;fillRule&quot;: &quot;evenodd&quot;, &quot;lineCap&quot;: &quot;round&quot;, &quot;lineJoin&quot;: &quot;round&quot;, &quot;noClip&quot;: false, &quot;opacity&quot;: 1.0, &quot;smoothFactor&quot;: 1.0, &quot;stroke&quot;: true, &quot;weight&quot;: 2}\n            ).addTo(map_af48f91235e1f16cb59b77d7ea4317e2);\n        \n    \n            var mouse_position_880233520201a236dc5b4b00d7389d18 = new L.Control.MousePosition(\n                {\n  &quot;position&quot;: &quot;topright&quot;,\n  &quot;separator&quot;: &quot; Long: &quot;,\n  &quot;emptyString&quot;: &quot;NaN&quot;,\n  &quot;lngFirst&quot;: false,\n  &quot;numDigits&quot;: 20,\n  &quot;prefix&quot;: &quot;Lat:&quot;,\n}\n            );\n            mouse_position_880233520201a236dc5b4b00d7389d18.options[&quot;latFormatter&quot;] =\n                function(num) {return L.Util.formatNum(num, 5);};;\n            mouse_position_880233520201a236dc5b4b00d7389d18.options[&quot;lngFormatter&quot;] =\n                function(num) {return L.Util.formatNum(num, 5);};;\n            map_af48f91235e1f16cb59b77d7ea4317e2.addControl(mouse_position_880233520201a236dc5b4b00d7389d18);\n        \n    \n            tile_layer_2af50eabf731fef08ac6108d2888ce44.addTo(map_af48f91235e1f16cb59b77d7ea4317e2);\n        \n    \n                marker_0a95c5c30c4fba4e63c4cc71674b6849.setIcon(icon_9322db070d3625ed170ef191ec64a328);\n            \n    \n                marker_69f9d0817c84835cd7fddbdced7ba8a1.setIcon(icon_f3e0ca70e12374ee550a93951a913d92);\n            \n    \n                marker_664c7cdb3df40b49fac053fc77dccd8c.setIcon(icon_7e17fe93284fca98fffddb2a9d5c789d);\n            \n    \n                marker_745d465c62f8e87549b17a3c08eafc49.setIcon(icon_fb8e2c8c6a3780999e5c9ac5622889fb);\n            \n    \n                marker_f610f6a5a829cb4124f063ae000adff5.setIcon(div_icon_281ee098b3387d3a0914fba2907dcab6);\n            \n    \n                marker_bfc279a01e4a52561a66bad6501a7530.setIcon(div_icon_1277117385e4088606d40c2212d62ea8);\n            \n    \n                marker_90b4253be6be18566dfb74c7c21605b6.setIcon(div_icon_bb260dc14f4a13de6ce56b802f1ee6e7);\n            \n    \n                marker_c119c3ee71513226af81504328d7c5e5.setIcon(div_icon_a0fe1160e5f5b45f1db7cefc6386baf3);\n            \n    \n            var marker_2f2f4052dc6761b8b39b11ab3e34a533 = L.marker(\n                [28.5636, -80.5716],\n                {\n}\n            ).addTo(map_af48f91235e1f16cb59b77d7ea4317e2);\n        \n    \n            var div_icon_923408455db0789989f568430b0f8dd0 = L.divIcon({\n  &quot;html&quot;: &quot;\\u003cdiv style=\\&quot;font-size: 10px; color:blue; background-color:white; padding:2px; border-radius:3px;\\&quot;\\u003e\\u003cb\\u003eCosta\\u003cbr\\u003e5.9 KM\\u003c/b\\u003e\\u003c/div\\u003e&quot;,\n  &quot;iconSize&quot;: [30, 30],\n  &quot;iconAnchor&quot;: [0, 0],\n  &quot;className&quot;: &quot;empty&quot;,\n});\n        \n    \n                marker_2f2f4052dc6761b8b39b11ab3e34a533.setIcon(div_icon_923408455db0789989f568430b0f8dd0);\n            \n    \n            var poly_line_a14319761031f1337dd5f7b4ff782fbd = L.polyline(\n                [[28.6080585, -80.6039558], [28.5636, -80.5716]],\n                {&quot;bubblingMouseEvents&quot;: true, &quot;color&quot;: &quot;blue&quot;, &quot;dashArray&quot;: null, &quot;dashOffset&quot;: null, &quot;fill&quot;: false, &quot;fillColor&quot;: &quot;blue&quot;, &quot;fillOpacity&quot;: 0.2, &quot;fillRule&quot;: &quot;evenodd&quot;, &quot;lineCap&quot;: &quot;round&quot;, &quot;lineJoin&quot;: &quot;round&quot;, &quot;noClip&quot;: false, &quot;opacity&quot;: 0.8, &quot;smoothFactor&quot;: 1.0, &quot;stroke&quot;: true, &quot;weight&quot;: 2}\n            ).addTo(map_af48f91235e1f16cb59b77d7ea4317e2);\n        \n    \n            var marker_3eeb34d87f47f5d142eb796416afcf94 = L.marker(\n                [28.32, -80.6076],\n                {\n}\n            ).addTo(map_af48f91235e1f16cb59b77d7ea4317e2);\n        \n    \n            var div_icon_5b724ba3bab37f7b7cafe768c7556510 = L.divIcon({\n  &quot;html&quot;: &quot;\\u003cdiv style=\\&quot;font-size: 10px; color:green; background-color:white; padding:2px; border-radius:3px;\\&quot;\\u003e\\u003cb\\u003eCiudad\\u003cbr\\u003e32.0 KM\\u003c/b\\u003e\\u003c/div\\u003e&quot;,\n  &quot;iconSize&quot;: [30, 30],\n  &quot;iconAnchor&quot;: [0, 0],\n  &quot;className&quot;: &quot;empty&quot;,\n});\n        \n    \n                marker_3eeb34d87f47f5d142eb796416afcf94.setIcon(div_icon_5b724ba3bab37f7b7cafe768c7556510);\n            \n    \n            var poly_line_2172f4329dbc5de34d9d132cbddd2239 = L.polyline(\n                [[28.6080585, -80.6039558], [28.32, -80.6076]],\n                {&quot;bubblingMouseEvents&quot;: true, &quot;color&quot;: &quot;green&quot;, &quot;dashArray&quot;: null, &quot;dashOffset&quot;: null, &quot;fill&quot;: false, &quot;fillColor&quot;: &quot;green&quot;, &quot;fillOpacity&quot;: 0.2, &quot;fillRule&quot;: &quot;evenodd&quot;, &quot;lineCap&quot;: &quot;round&quot;, &quot;lineJoin&quot;: &quot;round&quot;, &quot;noClip&quot;: false, &quot;opacity&quot;: 0.8, &quot;smoothFactor&quot;: 1.0, &quot;stroke&quot;: true, &quot;weight&quot;: 2}\n            ).addTo(map_af48f91235e1f16cb59b77d7ea4317e2);\n        \n    \n            var marker_fc751945e5a42f763a1d1ec6643ed4b8 = L.marker(\n                [28.605, -80.62],\n                {\n}\n            ).addTo(map_af48f91235e1f16cb59b77d7ea4317e2);\n        \n    \n            var div_icon_fca8558b6912ea2f8dfcdf6ce2d4b308 = L.divIcon({\n  &quot;html&quot;: &quot;\\u003cdiv style=\\&quot;font-size: 10px; color:orange; background-color:white; padding:2px; border-radius:3px;\\&quot;\\u003e\\u003cb\\u003eCarretera\\u003cbr\\u003e1.6 KM\\u003c/b\\u003e\\u003c/div\\u003e&quot;,\n  &quot;iconSize&quot;: [30, 30],\n  &quot;iconAnchor&quot;: [0, 0],\n  &quot;className&quot;: &quot;empty&quot;,\n});\n        \n    \n                marker_fc751945e5a42f763a1d1ec6643ed4b8.setIcon(div_icon_fca8558b6912ea2f8dfcdf6ce2d4b308);\n            \n    \n            var poly_line_d35d71f1494a04bbf23061a5e9c781d0 = L.polyline(\n                [[28.6080585, -80.6039558], [28.605, -80.62]],\n                {&quot;bubblingMouseEvents&quot;: true, &quot;color&quot;: &quot;orange&quot;, &quot;dashArray&quot;: null, &quot;dashOffset&quot;: null, &quot;fill&quot;: false, &quot;fillColor&quot;: &quot;orange&quot;, &quot;fillOpacity&quot;: 0.2, &quot;fillRule&quot;: &quot;evenodd&quot;, &quot;lineCap&quot;: &quot;round&quot;, &quot;lineJoin&quot;: &quot;round&quot;, &quot;noClip&quot;: false, &quot;opacity&quot;: 0.8, &quot;smoothFactor&quot;: 1.0, &quot;stroke&quot;: true, &quot;weight&quot;: 2}\n            ).addTo(map_af48f91235e1f16cb59b77d7ea4317e2);\n        \n    \n            var marker_e9ecb6b9457561988b8152b5de6a2373 = L.marker(\n                [28.595, -80.65],\n                {\n}\n            ).addTo(map_af48f91235e1f16cb59b77d7ea4317e2);\n        \n    \n            var div_icon_b6a6ce7013027135f6e015cd4adacf5d = L.divIcon({\n  &quot;html&quot;: &quot;\\u003cdiv style=\\&quot;font-size: 10px; color:purple; background-color:white; padding:2px; border-radius:3px;\\&quot;\\u003e\\u003cb\\u003eFerrocarril\\u003cbr\\u003e4.7 KM\\u003c/b\\u003e\\u003c/div\\u003e&quot;,\n  &quot;iconSize&quot;: [30, 30],\n  &quot;iconAnchor&quot;: [0, 0],\n  &quot;className&quot;: &quot;empty&quot;,\n});\n        \n    \n                marker_e9ecb6b9457561988b8152b5de6a2373.setIcon(div_icon_b6a6ce7013027135f6e015cd4adacf5d);\n            \n    \n            var poly_line_633f9e81dce2d7b1ce8c4c4c4dee332b = L.polyline(\n                [[28.6080585, -80.6039558], [28.595, -80.65]],\n                {&quot;bubblingMouseEvents&quot;: true, &quot;color&quot;: &quot;purple&quot;, &quot;dashArray&quot;: null, &quot;dashOffset&quot;: null, &quot;fill&quot;: false, &quot;fillColor&quot;: &quot;purple&quot;, &quot;fillOpacity&quot;: 0.2, &quot;fillRule&quot;: &quot;evenodd&quot;, &quot;lineCap&quot;: &quot;round&quot;, &quot;lineJoin&quot;: &quot;round&quot;, &quot;noClip&quot;: false, &quot;opacity&quot;: 0.8, &quot;smoothFactor&quot;: 1.0, &quot;stroke&quot;: true, &quot;weight&quot;: 2}\n            ).addTo(map_af48f91235e1f16cb59b77d7ea4317e2);\n        \n    \n            var marker_b82327c80051f4473bb0077f3de9314f = L.marker(\n                [28.5636, -80.5716],\n                {\n}\n            ).addTo(map_af48f91235e1f16cb59b77d7ea4317e2);\n        \n    \n            var div_icon_51b2ec12454570dbc46d3e370dc4d98b = L.divIcon({\n  &quot;html&quot;: &quot;\\u003cdiv style=\\&quot;font-size: 10px; color:blue; background-color:white; padding:2px; border-radius:3px;\\&quot;\\u003e\\u003cb\\u003eCosta\\u003cbr\\u003e5.9 KM\\u003c/b\\u003e\\u003c/div\\u003e&quot;,\n  &quot;iconSize&quot;: [30, 30],\n  &quot;iconAnchor&quot;: [0, 0],\n  &quot;className&quot;: &quot;empty&quot;,\n});\n        \n    \n                marker_b82327c80051f4473bb0077f3de9314f.setIcon(div_icon_51b2ec12454570dbc46d3e370dc4d98b);\n            \n    \n            var poly_line_2c291af5d1614bdde63aac2739c767df = L.polyline(\n                [[28.6080585, -80.6039558], [28.5636, -80.5716]],\n                {&quot;bubblingMouseEvents&quot;: true, &quot;color&quot;: &quot;blue&quot;, &quot;dashArray&quot;: null, &quot;dashOffset&quot;: null, &quot;fill&quot;: false, &quot;fillColor&quot;: &quot;blue&quot;, &quot;fillOpacity&quot;: 0.2, &quot;fillRule&quot;: &quot;evenodd&quot;, &quot;lineCap&quot;: &quot;round&quot;, &quot;lineJoin&quot;: &quot;round&quot;, &quot;noClip&quot;: false, &quot;opacity&quot;: 0.8, &quot;smoothFactor&quot;: 1.0, &quot;stroke&quot;: true, &quot;weight&quot;: 2}\n            ).addTo(map_af48f91235e1f16cb59b77d7ea4317e2);\n        \n    \n            var marker_cf91059681363f35c26026569dd68911 = L.marker(\n                [28.32, -80.6076],\n                {\n}\n            ).addTo(map_af48f91235e1f16cb59b77d7ea4317e2);\n        \n    \n            var div_icon_47b0a943e753e5af52612c069c78c354 = L.divIcon({\n  &quot;html&quot;: &quot;\\u003cdiv style=\\&quot;font-size: 10px; color:green; background-color:white; padding:2px; border-radius:3px;\\&quot;\\u003e\\u003cb\\u003eCiudad\\u003cbr\\u003e32.0 KM\\u003c/b\\u003e\\u003c/div\\u003e&quot;,\n  &quot;iconSize&quot;: [30, 30],\n  &quot;iconAnchor&quot;: [0, 0],\n  &quot;className&quot;: &quot;empty&quot;,\n});\n        \n    \n                marker_cf91059681363f35c26026569dd68911.setIcon(div_icon_47b0a943e753e5af52612c069c78c354);\n            \n    \n            var poly_line_b3d9548cfcdce5f459d6fb418cd852de = L.polyline(\n                [[28.6080585, -80.6039558], [28.32, -80.6076]],\n                {&quot;bubblingMouseEvents&quot;: true, &quot;color&quot;: &quot;green&quot;, &quot;dashArray&quot;: null, &quot;dashOffset&quot;: null, &quot;fill&quot;: false, &quot;fillColor&quot;: &quot;green&quot;, &quot;fillOpacity&quot;: 0.2, &quot;fillRule&quot;: &quot;evenodd&quot;, &quot;lineCap&quot;: &quot;round&quot;, &quot;lineJoin&quot;: &quot;round&quot;, &quot;noClip&quot;: false, &quot;opacity&quot;: 0.8, &quot;smoothFactor&quot;: 1.0, &quot;stroke&quot;: true, &quot;weight&quot;: 2}\n            ).addTo(map_af48f91235e1f16cb59b77d7ea4317e2);\n        \n    \n            var marker_142c7c11b6b0517c8f53a9273cb1e7a1 = L.marker(\n                [28.605, -80.62],\n                {\n}\n            ).addTo(map_af48f91235e1f16cb59b77d7ea4317e2);\n        \n    \n            var div_icon_b9599a3ed443c18a87ea261328659515 = L.divIcon({\n  &quot;html&quot;: &quot;\\u003cdiv style=\\&quot;font-size: 10px; color:orange; background-color:white; padding:2px; border-radius:3px;\\&quot;\\u003e\\u003cb\\u003eCarretera\\u003cbr\\u003e1.6 KM\\u003c/b\\u003e\\u003c/div\\u003e&quot;,\n  &quot;iconSize&quot;: [30, 30],\n  &quot;iconAnchor&quot;: [0, 0],\n  &quot;className&quot;: &quot;empty&quot;,\n});\n        \n    \n                marker_142c7c11b6b0517c8f53a9273cb1e7a1.setIcon(div_icon_b9599a3ed443c18a87ea261328659515);\n            \n    \n            var poly_line_222ec32d1632fc17335eb56081fc6149 = L.polyline(\n                [[28.6080585, -80.6039558], [28.605, -80.62]],\n                {&quot;bubblingMouseEvents&quot;: true, &quot;color&quot;: &quot;orange&quot;, &quot;dashArray&quot;: null, &quot;dashOffset&quot;: null, &quot;fill&quot;: false, &quot;fillColor&quot;: &quot;orange&quot;, &quot;fillOpacity&quot;: 0.2, &quot;fillRule&quot;: &quot;evenodd&quot;, &quot;lineCap&quot;: &quot;round&quot;, &quot;lineJoin&quot;: &quot;round&quot;, &quot;noClip&quot;: false, &quot;opacity&quot;: 0.8, &quot;smoothFactor&quot;: 1.0, &quot;stroke&quot;: true, &quot;weight&quot;: 2}\n            ).addTo(map_af48f91235e1f16cb59b77d7ea4317e2);\n        \n    \n            var marker_14672b6c3d91779cb725039378f8f9e4 = L.marker(\n                [28.595, -80.65],\n                {\n}\n            ).addTo(map_af48f91235e1f16cb59b77d7ea4317e2);\n        \n    \n            var div_icon_2089b015ce4302944191ee06f47746d7 = L.divIcon({\n  &quot;html&quot;: &quot;\\u003cdiv style=\\&quot;font-size: 10px; color:purple; background-color:white; padding:2px; border-radius:3px;\\&quot;\\u003e\\u003cb\\u003eFerrocarril\\u003cbr\\u003e4.7 KM\\u003c/b\\u003e\\u003c/div\\u003e&quot;,\n  &quot;iconSize&quot;: [30, 30],\n  &quot;iconAnchor&quot;: [0, 0],\n  &quot;className&quot;: &quot;empty&quot;,\n});\n        \n    \n                marker_14672b6c3d91779cb725039378f8f9e4.setIcon(div_icon_2089b015ce4302944191ee06f47746d7);\n            \n    \n            var poly_line_3bf8915977b3f701c95551e51b7cba9f = L.polyline(\n                [[28.6080585, -80.6039558], [28.595, -80.65]],\n                {&quot;bubblingMouseEvents&quot;: true, &quot;color&quot;: &quot;purple&quot;, &quot;dashArray&quot;: null, &quot;dashOffset&quot;: null, &quot;fill&quot;: false, &quot;fillColor&quot;: &quot;purple&quot;, &quot;fillOpacity&quot;: 0.2, &quot;fillRule&quot;: &quot;evenodd&quot;, &quot;lineCap&quot;: &quot;round&quot;, &quot;lineJoin&quot;: &quot;round&quot;, &quot;noClip&quot;: false, &quot;opacity&quot;: 0.8, &quot;smoothFactor&quot;: 1.0, &quot;stroke&quot;: true, &quot;weight&quot;: 2}\n            ).addTo(map_af48f91235e1f16cb59b77d7ea4317e2);\n        \n&lt;/script&gt;\n&lt;/html&gt;\" style=\"position:absolute;width:100%;height:100%;left:0;top:0;border:none !important;\" allowfullscreen webkitallowfullscreen mozallowfullscreen></iframe></div></div>"
          },
          "metadata": {}
        }
      ],
      "execution_count": 30
    },
    {
      "cell_type": "code",
      "source": "# Coordenadas del sitio de lanzamiento (ejemplo KSC)\nlaunch_site_lat = 28.6080585\nlaunch_site_lon = -80.6039558\n\n# Coordenadas de la costa (las obtienes con MousePosition)\ncoastline_lat = 28.56367   # Coordenada que encontraste con el mouse\ncoastline_lon = -80.57163  # Coordenada que encontraste con el mouse",
      "metadata": {
        "trusted": true
      },
      "outputs": [],
      "execution_count": 31
    },
    {
      "cell_type": "code",
      "source": "distance_coastline = calculate_distance(launch_site_lat, launch_site_lon, \n                                       coastline_lat, coastline_lon)",
      "metadata": {
        "trusted": true
      },
      "outputs": [],
      "execution_count": 32
    },
    {
      "cell_type": "code",
      "source": "distance_marker = folium.Marker(\n    [coastline_lat, coastline_lon],\n    icon=DivIcon(\n        icon_size=(20,20),\n        icon_anchor=(0,0),\n        html='<div style=\"font-size: 12; color:#d35400;\"><b>{:.2f} KM</b></div>'.format(distance_coastline),\n    )\n)",
      "metadata": {
        "trusted": true
      },
      "outputs": [],
      "execution_count": 33
    },
    {
      "cell_type": "code",
      "source": "# Create a `folium.PolyLine` object using the coastline coordinates and launch site coordinate\nlines = folium.PolyLine(\n    locations=[[launch_site_lat, launch_site_lon], [coastline_lat, coastline_lon]], \n    weight=1\n)",
      "metadata": {
        "trusted": true
      },
      "outputs": [],
      "execution_count": 34
    },
    {
      "cell_type": "markdown",
      "source": "*TODO:* Draw a `PolyLine` between a launch site to the selected coastline point\n",
      "metadata": {}
    },
    {
      "cell_type": "code",
      "source": "# Create a `folium.PolyLine` object using the coastline coordinates and launch site coordinate\n# lines=folium.PolyLine(locations=coordinates, weight=1)\nsite_map.add_child(lines)",
      "metadata": {
        "trusted": true
      },
      "outputs": [
        {
          "execution_count": 35,
          "output_type": "execute_result",
          "data": {
            "text/plain": "<folium.folium.Map at 0x61f4538>",
            "text/html": "<div style=\"width:100%;\"><div style=\"position:relative;width:100%;height:0;padding-bottom:60%;\"><span style=\"color:#565656\">Make this Notebook Trusted to load map: File -> Trust Notebook</span><iframe srcdoc=\"&lt;!DOCTYPE html&gt;\n&lt;html&gt;\n&lt;head&gt;\n    \n    &lt;meta http-equiv=&quot;content-type&quot; content=&quot;text/html; charset=UTF-8&quot; /&gt;\n    &lt;script src=&quot;https://cdn.jsdelivr.net/npm/leaflet@1.9.3/dist/leaflet.js&quot;&gt;&lt;/script&gt;\n    &lt;script src=&quot;https://code.jquery.com/jquery-3.7.1.min.js&quot;&gt;&lt;/script&gt;\n    &lt;script src=&quot;https://cdn.jsdelivr.net/npm/bootstrap@5.2.2/dist/js/bootstrap.bundle.min.js&quot;&gt;&lt;/script&gt;\n    &lt;script src=&quot;https://cdnjs.cloudflare.com/ajax/libs/Leaflet.awesome-markers/2.0.2/leaflet.awesome-markers.js&quot;&gt;&lt;/script&gt;\n    &lt;link rel=&quot;stylesheet&quot; href=&quot;https://cdn.jsdelivr.net/npm/leaflet@1.9.3/dist/leaflet.css&quot;/&gt;\n    &lt;link rel=&quot;stylesheet&quot; href=&quot;https://cdn.jsdelivr.net/npm/bootstrap@5.2.2/dist/css/bootstrap.min.css&quot;/&gt;\n    &lt;link rel=&quot;stylesheet&quot; href=&quot;https://netdna.bootstrapcdn.com/bootstrap/3.0.0/css/bootstrap-glyphicons.css&quot;/&gt;\n    &lt;link rel=&quot;stylesheet&quot; href=&quot;https://cdn.jsdelivr.net/npm/@fortawesome/fontawesome-free@6.2.0/css/all.min.css&quot;/&gt;\n    &lt;link rel=&quot;stylesheet&quot; href=&quot;https://cdnjs.cloudflare.com/ajax/libs/Leaflet.awesome-markers/2.0.2/leaflet.awesome-markers.css&quot;/&gt;\n    &lt;link rel=&quot;stylesheet&quot; href=&quot;https://cdn.jsdelivr.net/gh/python-visualization/folium/folium/templates/leaflet.awesome.rotate.min.css&quot;/&gt;\n    \n            &lt;meta name=&quot;viewport&quot; content=&quot;width=device-width,\n                initial-scale=1.0, maximum-scale=1.0, user-scalable=no&quot; /&gt;\n            &lt;style&gt;\n                #map_0836dd1ca11989a3393420928addda13 {\n                    position: relative;\n                    width: 100.0%;\n                    height: 100.0%;\n                    left: 0.0%;\n                    top: 0.0%;\n                }\n                .leaflet-container { font-size: 1rem; }\n            &lt;/style&gt;\n\n            &lt;style&gt;html, body {\n                width: 100%;\n                height: 100%;\n                margin: 0;\n                padding: 0;\n            }\n            &lt;/style&gt;\n\n            &lt;style&gt;#map {\n                position:absolute;\n                top:0;\n                bottom:0;\n                right:0;\n                left:0;\n                }\n            &lt;/style&gt;\n\n            &lt;script&gt;\n                L_NO_TOUCH = false;\n                L_DISABLE_3D = false;\n            &lt;/script&gt;\n\n        \n&lt;/head&gt;\n&lt;body&gt;\n    \n    \n            &lt;div class=&quot;folium-map&quot; id=&quot;map_0836dd1ca11989a3393420928addda13&quot; &gt;&lt;/div&gt;\n        \n&lt;/body&gt;\n&lt;script&gt;\n    \n    \n            var map_0836dd1ca11989a3393420928addda13 = L.map(\n                &quot;map_0836dd1ca11989a3393420928addda13&quot;,\n                {\n                    center: [29.559684888503615, -95.0830971930759],\n                    crs: L.CRS.EPSG3857,\n                    ...{\n  &quot;zoom&quot;: 5,\n  &quot;zoomControl&quot;: true,\n  &quot;preferCanvas&quot;: false,\n}\n\n                }\n            );\n\n            \n\n        \n    \n            var tile_layer_70a2307989a4d3507f9597496881b2c5 = L.tileLayer(\n                &quot;https://tile.openstreetmap.org/{z}/{x}/{y}.png&quot;,\n                {\n  &quot;minZoom&quot;: 0,\n  &quot;maxZoom&quot;: 19,\n  &quot;maxNativeZoom&quot;: 19,\n  &quot;noWrap&quot;: false,\n  &quot;attribution&quot;: &quot;\\u0026copy; \\u003ca href=\\&quot;https://www.openstreetmap.org/copyright\\&quot;\\u003eOpenStreetMap\\u003c/a\\u003e contributors&quot;,\n  &quot;subdomains&quot;: &quot;abc&quot;,\n  &quot;detectRetina&quot;: false,\n  &quot;tms&quot;: false,\n  &quot;opacity&quot;: 1,\n}\n\n            );\n        \n    \n            tile_layer_70a2307989a4d3507f9597496881b2c5.addTo(map_0836dd1ca11989a3393420928addda13);\n        \n    \n            tile_layer_70a2307989a4d3507f9597496881b2c5.addTo(map_0836dd1ca11989a3393420928addda13);\n        \n    \n            var poly_line_0780f03dc961a2a20d029084524bb548 = L.polyline(\n                [[28.6080585, -80.6039558], [28.56367, -80.57163]],\n                {&quot;bubblingMouseEvents&quot;: true, &quot;color&quot;: &quot;#3388ff&quot;, &quot;dashArray&quot;: null, &quot;dashOffset&quot;: null, &quot;fill&quot;: false, &quot;fillColor&quot;: &quot;#3388ff&quot;, &quot;fillOpacity&quot;: 0.2, &quot;fillRule&quot;: &quot;evenodd&quot;, &quot;lineCap&quot;: &quot;round&quot;, &quot;lineJoin&quot;: &quot;round&quot;, &quot;noClip&quot;: false, &quot;opacity&quot;: 1.0, &quot;smoothFactor&quot;: 1.0, &quot;stroke&quot;: true, &quot;weight&quot;: 1}\n            ).addTo(map_0836dd1ca11989a3393420928addda13);\n        \n&lt;/script&gt;\n&lt;/html&gt;\" style=\"position:absolute;width:100%;height:100%;left:0;top:0;border:none !important;\" allowfullscreen webkitallowfullscreen mozallowfullscreen></iframe></div></div>"
          },
          "metadata": {}
        }
      ],
      "execution_count": 35
    },
    {
      "cell_type": "markdown",
      "source": "Your updated map with distance line should look like the following screenshot:\n",
      "metadata": {}
    },
    {
      "cell_type": "markdown",
      "source": "<center>\n    <img src=\"https://cf-courses-data.s3.us.cloud-object-storage.appdomain.cloud/IBM-DS0321EN-SkillsNetwork/labs/module_3/images/launch_site_marker_distance.png\">\n</center>\n",
      "metadata": {}
    },
    {
      "cell_type": "markdown",
      "source": "*TODO:* Similarly, you can draw a line betwee a launch site to its closest city, railway, highway, etc. You need to use `MousePosition` to find the their coordinates on the map first\n",
      "metadata": {}
    },
    {
      "cell_type": "markdown",
      "source": "A railway map symbol may look like this:\n",
      "metadata": {}
    },
    {
      "cell_type": "markdown",
      "source": "<center>\n    <img src=\"https://cf-courses-data.s3.us.cloud-object-storage.appdomain.cloud/IBM-DS0321EN-SkillsNetwork/labs/module_3/images/railway.png\">\n</center>\n",
      "metadata": {}
    },
    {
      "cell_type": "markdown",
      "source": "A highway map symbol may look like this:\n",
      "metadata": {}
    },
    {
      "cell_type": "markdown",
      "source": "<center>\n    <img src=\"https://cf-courses-data.s3.us.cloud-object-storage.appdomain.cloud/IBM-DS0321EN-SkillsNetwork/labs/module_3/images/highway.png\">\n</center>\n",
      "metadata": {}
    },
    {
      "cell_type": "markdown",
      "source": "A city map symbol may look like this:\n",
      "metadata": {}
    },
    {
      "cell_type": "markdown",
      "source": "<center>\n    <img src=\"https://cf-courses-data.s3.us.cloud-object-storage.appdomain.cloud/IBM-DS0321EN-SkillsNetwork/labs/module_3/images/city.png\">\n</center>\n",
      "metadata": {}
    },
    {
      "cell_type": "code",
      "source": "# Create a marker with distance to a closest city, railway, highway, etc.\n# Draw a line between the marker to the launch site\n",
      "metadata": {
        "trusted": true
      },
      "outputs": [],
      "execution_count": null
    },
    {
      "cell_type": "code",
      "source": "# PASO 5: Crear línea entre el sitio de lanzamiento y la costa\n# AQUÍ ESTÁ LA CORRECCIÓN DEL ERROR:\nlines = folium.PolyLine(\n    locations=[[launch_site_lat, launch_site_lon], [coastline_lat, coastline_lon]], \n    weight=1\n)\n\n# PASO 6: Agregar al mapa\nsite_map.add_child(distance_marker)\nsite_map.add_child(lines)\n\n# Mostrar el mapa actualizado\nsite_map",
      "metadata": {
        "trusted": true
      },
      "outputs": [
        {
          "execution_count": 36,
          "output_type": "execute_result",
          "data": {
            "text/plain": "<folium.folium.Map at 0x61f4538>",
            "text/html": "<div style=\"width:100%;\"><div style=\"position:relative;width:100%;height:0;padding-bottom:60%;\"><span style=\"color:#565656\">Make this Notebook Trusted to load map: File -> Trust Notebook</span><iframe srcdoc=\"&lt;!DOCTYPE html&gt;\n&lt;html&gt;\n&lt;head&gt;\n    \n    &lt;meta http-equiv=&quot;content-type&quot; content=&quot;text/html; charset=UTF-8&quot; /&gt;\n    &lt;script src=&quot;https://cdn.jsdelivr.net/npm/leaflet@1.9.3/dist/leaflet.js&quot;&gt;&lt;/script&gt;\n    &lt;script src=&quot;https://code.jquery.com/jquery-3.7.1.min.js&quot;&gt;&lt;/script&gt;\n    &lt;script src=&quot;https://cdn.jsdelivr.net/npm/bootstrap@5.2.2/dist/js/bootstrap.bundle.min.js&quot;&gt;&lt;/script&gt;\n    &lt;script src=&quot;https://cdnjs.cloudflare.com/ajax/libs/Leaflet.awesome-markers/2.0.2/leaflet.awesome-markers.js&quot;&gt;&lt;/script&gt;\n    &lt;link rel=&quot;stylesheet&quot; href=&quot;https://cdn.jsdelivr.net/npm/leaflet@1.9.3/dist/leaflet.css&quot;/&gt;\n    &lt;link rel=&quot;stylesheet&quot; href=&quot;https://cdn.jsdelivr.net/npm/bootstrap@5.2.2/dist/css/bootstrap.min.css&quot;/&gt;\n    &lt;link rel=&quot;stylesheet&quot; href=&quot;https://netdna.bootstrapcdn.com/bootstrap/3.0.0/css/bootstrap-glyphicons.css&quot;/&gt;\n    &lt;link rel=&quot;stylesheet&quot; href=&quot;https://cdn.jsdelivr.net/npm/@fortawesome/fontawesome-free@6.2.0/css/all.min.css&quot;/&gt;\n    &lt;link rel=&quot;stylesheet&quot; href=&quot;https://cdnjs.cloudflare.com/ajax/libs/Leaflet.awesome-markers/2.0.2/leaflet.awesome-markers.css&quot;/&gt;\n    &lt;link rel=&quot;stylesheet&quot; href=&quot;https://cdn.jsdelivr.net/gh/python-visualization/folium/folium/templates/leaflet.awesome.rotate.min.css&quot;/&gt;\n    \n            &lt;meta name=&quot;viewport&quot; content=&quot;width=device-width,\n                initial-scale=1.0, maximum-scale=1.0, user-scalable=no&quot; /&gt;\n            &lt;style&gt;\n                #map_0836dd1ca11989a3393420928addda13 {\n                    position: relative;\n                    width: 100.0%;\n                    height: 100.0%;\n                    left: 0.0%;\n                    top: 0.0%;\n                }\n                .leaflet-container { font-size: 1rem; }\n            &lt;/style&gt;\n\n            &lt;style&gt;html, body {\n                width: 100%;\n                height: 100%;\n                margin: 0;\n                padding: 0;\n            }\n            &lt;/style&gt;\n\n            &lt;style&gt;#map {\n                position:absolute;\n                top:0;\n                bottom:0;\n                right:0;\n                left:0;\n                }\n            &lt;/style&gt;\n\n            &lt;script&gt;\n                L_NO_TOUCH = false;\n                L_DISABLE_3D = false;\n            &lt;/script&gt;\n\n        \n&lt;/head&gt;\n&lt;body&gt;\n    \n    \n            &lt;div class=&quot;folium-map&quot; id=&quot;map_0836dd1ca11989a3393420928addda13&quot; &gt;&lt;/div&gt;\n        \n&lt;/body&gt;\n&lt;script&gt;\n    \n    \n            var map_0836dd1ca11989a3393420928addda13 = L.map(\n                &quot;map_0836dd1ca11989a3393420928addda13&quot;,\n                {\n                    center: [29.559684888503615, -95.0830971930759],\n                    crs: L.CRS.EPSG3857,\n                    ...{\n  &quot;zoom&quot;: 5,\n  &quot;zoomControl&quot;: true,\n  &quot;preferCanvas&quot;: false,\n}\n\n                }\n            );\n\n            \n\n        \n    \n            var tile_layer_70a2307989a4d3507f9597496881b2c5 = L.tileLayer(\n                &quot;https://tile.openstreetmap.org/{z}/{x}/{y}.png&quot;,\n                {\n  &quot;minZoom&quot;: 0,\n  &quot;maxZoom&quot;: 19,\n  &quot;maxNativeZoom&quot;: 19,\n  &quot;noWrap&quot;: false,\n  &quot;attribution&quot;: &quot;\\u0026copy; \\u003ca href=\\&quot;https://www.openstreetmap.org/copyright\\&quot;\\u003eOpenStreetMap\\u003c/a\\u003e contributors&quot;,\n  &quot;subdomains&quot;: &quot;abc&quot;,\n  &quot;detectRetina&quot;: false,\n  &quot;tms&quot;: false,\n  &quot;opacity&quot;: 1,\n}\n\n            );\n        \n    \n            tile_layer_70a2307989a4d3507f9597496881b2c5.addTo(map_0836dd1ca11989a3393420928addda13);\n        \n    \n            tile_layer_70a2307989a4d3507f9597496881b2c5.addTo(map_0836dd1ca11989a3393420928addda13);\n        \n    \n            var poly_line_0780f03dc961a2a20d029084524bb548 = L.polyline(\n                [[28.6080585, -80.6039558], [28.56367, -80.57163]],\n                {&quot;bubblingMouseEvents&quot;: true, &quot;color&quot;: &quot;#3388ff&quot;, &quot;dashArray&quot;: null, &quot;dashOffset&quot;: null, &quot;fill&quot;: false, &quot;fillColor&quot;: &quot;#3388ff&quot;, &quot;fillOpacity&quot;: 0.2, &quot;fillRule&quot;: &quot;evenodd&quot;, &quot;lineCap&quot;: &quot;round&quot;, &quot;lineJoin&quot;: &quot;round&quot;, &quot;noClip&quot;: false, &quot;opacity&quot;: 1.0, &quot;smoothFactor&quot;: 1.0, &quot;stroke&quot;: true, &quot;weight&quot;: 1}\n            ).addTo(map_0836dd1ca11989a3393420928addda13);\n        \n    \n            tile_layer_70a2307989a4d3507f9597496881b2c5.addTo(map_0836dd1ca11989a3393420928addda13);\n        \n    \n            var marker_f9f7da66119d18ebad3267bcae500a9d = L.marker(\n                [28.56367, -80.57163],\n                {\n}\n            ).addTo(map_0836dd1ca11989a3393420928addda13);\n        \n    \n            var div_icon_6e0bd258fb16c98afd05a395b08d0017 = L.divIcon({\n  &quot;html&quot;: &quot;\\u003cdiv style=\\&quot;font-size: 12; color:#d35400;\\&quot;\\u003e\\u003cb\\u003e5.86 KM\\u003c/b\\u003e\\u003c/div\\u003e&quot;,\n  &quot;iconSize&quot;: [20, 20],\n  &quot;iconAnchor&quot;: [0, 0],\n  &quot;className&quot;: &quot;empty&quot;,\n});\n        \n    \n                marker_f9f7da66119d18ebad3267bcae500a9d.setIcon(div_icon_6e0bd258fb16c98afd05a395b08d0017);\n            \n    \n            var poly_line_1705c6d6c3f3cbf7406421f3a3221d6f = L.polyline(\n                [[28.6080585, -80.6039558], [28.56367, -80.57163]],\n                {&quot;bubblingMouseEvents&quot;: true, &quot;color&quot;: &quot;#3388ff&quot;, &quot;dashArray&quot;: null, &quot;dashOffset&quot;: null, &quot;fill&quot;: false, &quot;fillColor&quot;: &quot;#3388ff&quot;, &quot;fillOpacity&quot;: 0.2, &quot;fillRule&quot;: &quot;evenodd&quot;, &quot;lineCap&quot;: &quot;round&quot;, &quot;lineJoin&quot;: &quot;round&quot;, &quot;noClip&quot;: false, &quot;opacity&quot;: 1.0, &quot;smoothFactor&quot;: 1.0, &quot;stroke&quot;: true, &quot;weight&quot;: 1}\n            ).addTo(map_0836dd1ca11989a3393420928addda13);\n        \n&lt;/script&gt;\n&lt;/html&gt;\" style=\"position:absolute;width:100%;height:100%;left:0;top:0;border:none !important;\" allowfullscreen webkitallowfullscreen mozallowfullscreen></iframe></div></div>"
          },
          "metadata": {}
        }
      ],
      "execution_count": 36
    },
    {
      "cell_type": "code",
      "source": "",
      "metadata": {
        "trusted": true
      },
      "outputs": [],
      "execution_count": null
    },
    {
      "cell_type": "markdown",
      "source": "After you plot distance lines to the proximities, you can answer the following questions easily:\n\n*   Are launch sites in close proximity to railways?\n*   Are launch sites in close proximity to highways?\n*   Are launch sites in close proximity to coastline?\n*   Do launch sites keep certain distance away from cities?\n\nAlso please try to explain your findings.\n",
      "metadata": {}
    },
    {
      "cell_type": "markdown",
      "source": "# Next Steps:\n\nNow you have discovered many interesting insights related to the launch sites' location using folium, in a very interactive way. Next, you will need to build a dashboard using Ploty Dash on detailed launch records.\n",
      "metadata": {}
    },
    {
      "cell_type": "markdown",
      "source": "## Authors\n",
      "metadata": {}
    },
    {
      "cell_type": "markdown",
      "source": "[Pratiksha Verma](https://www.linkedin.com/in/pratiksha-verma-6487561b1/)\n",
      "metadata": {}
    },
    {
      "cell_type": "markdown",
      "source": "<!--## Change Log--!>\n",
      "metadata": {}
    },
    {
      "cell_type": "markdown",
      "source": "<!--| Date (YYYY-MM-DD) | Version | Changed By      | Change Description      |\n| ----------------- | ------- | -------------   | ----------------------- |\n| 2022-11-09        | 1.0     | Pratiksha Verma | Converted initial version to Jupyterlite|--!>\n",
      "metadata": {}
    },
    {
      "cell_type": "markdown",
      "source": "### <h3 align=\"center\"> IBM Corporation 2022. All rights reserved. <h3/>\n",
      "metadata": {}
    }
  ]
}